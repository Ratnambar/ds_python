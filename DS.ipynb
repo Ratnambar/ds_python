{
 "cells": [
  {
   "cell_type": "code",
   "execution_count": 2,
   "metadata": {},
   "outputs": [
    {
     "name": "stdout",
     "output_type": "stream",
     "text": [
      "enter length of linked list for back insertion5\n",
      "11\n",
      "22\n",
      "33\n",
      "44\n",
      "55\n",
      "52\n",
      "11->22->33->44->52->55->None\n"
     ]
    }
   ],
   "source": [
    "class Node:\n",
    "    def __init__(self,data):\n",
    "        self.data = data\n",
    "        self.next = None\n",
    "        \n",
    "class LinkedList:\n",
    "    def __init__(self):\n",
    "        self.head = None\n",
    "        \n",
    "    def insert_at_beg(self, data):\n",
    "        new_node = Node(data)\n",
    "        new_node.next = self.head\n",
    "        self.head = new_node\n",
    "        \n",
    "    def insert_at_last(self, data):\n",
    "        new_node = Node(data)\n",
    "        if self.head is None:\n",
    "            self.head = new_node\n",
    "        else:\n",
    "            p = self.head\n",
    "            while(p.next is not None):\n",
    "                p = p.next\n",
    "            p.next = new_node\n",
    "            p = new_node\n",
    "            \n",
    "    def insert_at_position(self,data):\n",
    "        p = self.head\n",
    "        new_node = Node(data)\n",
    "        pos = int(input(\"enter position at which perform insertion\"))\n",
    "        for i in range(1,pos):\n",
    "            p = p.next\n",
    "        new_node.next = p.next\n",
    "        p.next = new_node\n",
    "        p = new_node\n",
    "        \n",
    "    def reverse_linked_list(self):\n",
    "        prev = None\n",
    "        Next = None\n",
    "        current = self.head\n",
    "        while(current != None):\n",
    "            Next = current.next\n",
    "            current.next = prev\n",
    "            prev = current\n",
    "            current = Next\n",
    "        self.head = prev\n",
    "        \n",
    "    def display_middle(self):\n",
    "        fast = self.head\n",
    "        slow = self.head\n",
    "        if self.head is None:\n",
    "            print(\"linked list is empty.\")\n",
    "        else:\n",
    "            while(fast != None and fast.next != None):\n",
    "                fast = fast.next.next\n",
    "                slow = slow.next\n",
    "            print(slow.data,end=\"\")\n",
    "            \n",
    "    def insert_in_sorted_list(self, data):\n",
    "        p = self.head\n",
    "        temp = self.head\n",
    "        new_node = Node(data)\n",
    "        while p!=None and p.data < new_node.data:\n",
    "            temp = p\n",
    "            p = p.next\n",
    "        new_node.next = p\n",
    "        temp.next = new_node\n",
    "        temp = new_node\n",
    "        \n",
    "    def traverse_list(self):\n",
    "        while(self.head is not None):\n",
    "            print(self.head.data,end=\"->\")\n",
    "            self.head = self.head.next\n",
    "        print(\"None\")\n",
    "            \n",
    "new_list = LinkedList()\n",
    "# n = int(input(\"enter length of linked list for beg insertion\"))\n",
    "\n",
    "# for i in range(n):\n",
    "#     new_list.insert_at_beg(int(input()))\n",
    "# new_list.traverse_list()\n",
    "\n",
    "m = int(input(\"enter length of linked list for back insertion\"))\n",
    "for i in range(m):\n",
    "    new_list.insert_at_last(int(input()))\n",
    "# new_list.traverse_list()\n",
    "\n",
    "\n",
    "# new_list.insert_at_position(int(input()))\n",
    "# new_list.reverse_linked_list()\n",
    "# new_list.traverse_list()\n",
    "\n",
    "# new_list.display_middle()\n",
    "new_list.insert_in_sorted_list(int(input()))\n",
    "new_list.traverse_list()"
   ]
  },
  {
   "cell_type": "markdown",
   "metadata": {},
   "source": [
    "### "
   ]
  },
  {
   "cell_type": "code",
   "execution_count": 5,
   "metadata": {},
   "outputs": [
    {
     "name": "stdout",
     "output_type": "stream",
     "text": [
      "[3, 4, 5, 6, 7, 8, 9]\n"
     ]
    }
   ],
   "source": [
    "# Bubble sort\n",
    "\n",
    "l=[9,8,7,6,5,4,3]\n",
    "i = 0\n",
    "\n",
    "while i < len(l):\n",
    "    j = 0\n",
    "    while j < len(l)-i-1:\n",
    "        if l[j+1] < l[j]:\n",
    "            l[j+1],l[j] = l[j],l[j+1]\n",
    "        j+=1\n",
    "    i+=1\n",
    "print(l)\n",
    "            "
   ]
  },
  {
   "cell_type": "code",
   "execution_count": 3,
   "metadata": {},
   "outputs": [
    {
     "name": "stdout",
     "output_type": "stream",
     "text": [
      "[6, 2, 4, 3, 5, 1, 7]\n"
     ]
    }
   ],
   "source": [
    "a = [1,2,3,4,5,6,7]\n",
    "l=0\n",
    "r=len(a)-1\n",
    "while l<r:\n",
    "    while a[l]%2==0 and l<r:\n",
    "        l+=1\n",
    "    while a[r]%2==1 and l<r:\n",
    "        r-=1\n",
    "    if l<r:\n",
    "        a[l],a[r]=a[r],a[l]\n",
    "        l+=1\n",
    "        r-=1\n",
    "print(a)"
   ]
  },
  {
   "cell_type": "code",
   "execution_count": 6,
   "metadata": {},
   "outputs": [
    {
     "name": "stdout",
     "output_type": "stream",
     "text": [
      "length of tree2\n",
      "1\n",
      "2\n"
     ]
    },
    {
     "ename": "NameError",
     "evalue": "name 'insert_node' is not defined",
     "output_type": "error",
     "traceback": [
      "\u001b[0;31m---------------------------------------------------------------------------\u001b[0m",
      "\u001b[0;31mNameError\u001b[0m                                 Traceback (most recent call last)",
      "\u001b[0;32m<ipython-input-6-b04885a01d77>\u001b[0m in \u001b[0;36m<module>\u001b[0;34m\u001b[0m\n\u001b[1;32m     33\u001b[0m \u001b[0mnew_tree\u001b[0m \u001b[0;34m=\u001b[0m \u001b[0mLinkedList\u001b[0m\u001b[0;34m(\u001b[0m\u001b[0;34m)\u001b[0m\u001b[0;34m\u001b[0m\u001b[0;34m\u001b[0m\u001b[0m\n\u001b[1;32m     34\u001b[0m \u001b[0;32mfor\u001b[0m \u001b[0mi\u001b[0m \u001b[0;32min\u001b[0m \u001b[0mrange\u001b[0m\u001b[0;34m(\u001b[0m\u001b[0mint\u001b[0m\u001b[0;34m(\u001b[0m\u001b[0minput\u001b[0m\u001b[0;34m(\u001b[0m\u001b[0;34m\"length of tree\"\u001b[0m\u001b[0;34m)\u001b[0m\u001b[0;34m)\u001b[0m\u001b[0;34m)\u001b[0m\u001b[0;34m:\u001b[0m\u001b[0;34m\u001b[0m\u001b[0;34m\u001b[0m\u001b[0m\n\u001b[0;32m---> 35\u001b[0;31m     \u001b[0mnew_tree\u001b[0m\u001b[0;34m.\u001b[0m\u001b[0minsert_node\u001b[0m\u001b[0;34m(\u001b[0m\u001b[0mint\u001b[0m\u001b[0;34m(\u001b[0m\u001b[0minput\u001b[0m\u001b[0;34m(\u001b[0m\u001b[0;34m)\u001b[0m\u001b[0;34m)\u001b[0m\u001b[0;34m)\u001b[0m\u001b[0;34m\u001b[0m\u001b[0;34m\u001b[0m\u001b[0m\n\u001b[0m\u001b[1;32m     36\u001b[0m \u001b[0mnew_tree\u001b[0m\u001b[0;34m.\u001b[0m\u001b[0minorder\u001b[0m\u001b[0;34m(\u001b[0m\u001b[0;34m)\u001b[0m\u001b[0;34m\u001b[0m\u001b[0;34m\u001b[0m\u001b[0m\n",
      "\u001b[0;32m<ipython-input-6-b04885a01d77>\u001b[0m in \u001b[0;36minsert_node\u001b[0;34m(self, data)\u001b[0m\n\u001b[1;32m     16\u001b[0m                 \u001b[0mself\u001b[0m\u001b[0;34m.\u001b[0m\u001b[0mroot\u001b[0m\u001b[0;34m.\u001b[0m\u001b[0mleft\u001b[0m \u001b[0;34m=\u001b[0m \u001b[0minsert_node\u001b[0m\u001b[0;34m(\u001b[0m\u001b[0mself\u001b[0m\u001b[0;34m.\u001b[0m\u001b[0mroot\u001b[0m\u001b[0;34m.\u001b[0m\u001b[0mleft\u001b[0m\u001b[0;34m,\u001b[0m\u001b[0mdata\u001b[0m\u001b[0;34m)\u001b[0m\u001b[0;34m\u001b[0m\u001b[0;34m\u001b[0m\u001b[0m\n\u001b[1;32m     17\u001b[0m             \u001b[0;32melse\u001b[0m\u001b[0;34m:\u001b[0m\u001b[0;34m\u001b[0m\u001b[0;34m\u001b[0m\u001b[0m\n\u001b[0;32m---> 18\u001b[0;31m                 \u001b[0mself\u001b[0m\u001b[0;34m.\u001b[0m\u001b[0mroot\u001b[0m\u001b[0;34m.\u001b[0m\u001b[0mright\u001b[0m \u001b[0;34m=\u001b[0m \u001b[0minsert_node\u001b[0m\u001b[0;34m(\u001b[0m\u001b[0mself\u001b[0m\u001b[0;34m.\u001b[0m\u001b[0mroot\u001b[0m\u001b[0;34m.\u001b[0m\u001b[0mright\u001b[0m\u001b[0;34m,\u001b[0m\u001b[0mdata\u001b[0m\u001b[0;34m)\u001b[0m\u001b[0;34m\u001b[0m\u001b[0;34m\u001b[0m\u001b[0m\n\u001b[0m\u001b[1;32m     19\u001b[0m         \u001b[0;32mreturn\u001b[0m \u001b[0mself\u001b[0m\u001b[0;34m.\u001b[0m\u001b[0mroot\u001b[0m\u001b[0;34m\u001b[0m\u001b[0;34m\u001b[0m\u001b[0m\n\u001b[1;32m     20\u001b[0m \u001b[0;34m\u001b[0m\u001b[0m\n",
      "\u001b[0;31mNameError\u001b[0m: name 'insert_node' is not defined"
     ]
    }
   ],
   "source": [
    "class Node:\n",
    "    def __init__(self,data):\n",
    "        self.data = data\n",
    "        self.left = self.right = None\n",
    "        \n",
    "class LinkedList:\n",
    "    def __init__(self):\n",
    "        self.root = None\n",
    "        \n",
    "    def insert_node(self, data):\n",
    "        new_node = Node(data)\n",
    "        if self.root == None:\n",
    "            self.root = new_node\n",
    "        else:\n",
    "            if data < self.root.data:\n",
    "                self.root.left = insert_node(self.root.left,data)\n",
    "            else:\n",
    "                self.root.right = insert_node(self.root.right,data)\n",
    "        return self.root\n",
    "    \n",
    "    def inorder(self):\n",
    "        if self.root==None:\n",
    "            return\n",
    "        print(self.root.data,end=\"->\")\n",
    "        inorder(self.root.left)\n",
    "        inorder(self.root.right)\n",
    "    \n",
    "    def preorder(self):\n",
    "        if self.root == None:\n",
    "            preorder(self.root.left)\n",
    "            print(self.root.data)\n",
    "            preorder(self.root.right)\n",
    "new_tree = LinkedList()\n",
    "for i in range(int(input(\"length of tree\"))):\n",
    "    new_tree.insert_node(int(input()))\n",
    "new_tree.inorder()"
   ]
  },
  {
   "cell_type": "markdown",
   "metadata": {},
   "source": [
    "## "
   ]
  }
 ],
 "metadata": {
  "kernelspec": {
   "display_name": "Python 3",
   "language": "python",
   "name": "python3"
  },
  "language_info": {
   "codemirror_mode": {
    "name": "ipython",
    "version": 3
   },
   "file_extension": ".py",
   "mimetype": "text/x-python",
   "name": "python",
   "nbconvert_exporter": "python",
   "pygments_lexer": "ipython3",
   "version": "3.8.5"
  }
 },
 "nbformat": 4,
 "nbformat_minor": 4
}
