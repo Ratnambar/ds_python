{
 "cells": [
  {
   "cell_type": "code",
   "execution_count": 10,
   "metadata": {},
   "outputs": [
    {
     "name": "stdout",
     "output_type": "stream",
     "text": [
      "push <value>\n",
      "pop\n",
      "display stack\n",
      "size\n",
      "quit\n",
      "what you want to do?push 2\n",
      "push <value>\n",
      "pop\n",
      "display stack\n",
      "size\n",
      "quit\n",
      "what you want to do?size\n",
      "1\n",
      "push <value>\n",
      "pop\n",
      "display stack\n",
      "size\n",
      "quit\n",
      "what you want to do?push 3\n",
      "push <value>\n",
      "pop\n",
      "display stack\n",
      "size\n",
      "quit\n",
      "what you want to do?push 4\n",
      "push <value>\n",
      "pop\n",
      "display stack\n",
      "size\n",
      "quit\n",
      "what you want to do?push 5\n",
      "push <value>\n",
      "pop\n",
      "display stack\n",
      "size\n",
      "quit\n",
      "what you want to do?size\n",
      "4\n",
      "push <value>\n",
      "pop\n",
      "display stack\n",
      "size\n",
      "quit\n",
      "what you want to do?display\n",
      "[2, 3, 4, 5]\n",
      "push <value>\n",
      "pop\n",
      "display stack\n",
      "size\n",
      "quit\n",
      "what you want to do?pop\n",
      "popped value:  5\n",
      "push <value>\n",
      "pop\n",
      "display stack\n",
      "size\n",
      "quit\n",
      "what you want to do?quit\n"
     ]
    }
   ],
   "source": [
    "class Stack:\n",
    "    def __init__(self):\n",
    "        self.items = []\n",
    "    \n",
    "    def is_empty(self):\n",
    "        return self.items == []\n",
    "    \n",
    "    def push(self, data):\n",
    "        self.items.append(data)\n",
    "    \n",
    "    def pop(self):\n",
    "        return self.items.pop()\n",
    "    \n",
    "    def display(self):\n",
    "        return self.items\n",
    "    \n",
    "    def size(self):\n",
    "        return len(self.items)\n",
    "    \n",
    "s = Stack()\n",
    "while True:\n",
    "    print('push <value>')\n",
    "    print('pop')\n",
    "    print('display stack')\n",
    "    print('size')\n",
    "    print('quit')\n",
    "    do = input('what you want to do?').split()\n",
    "    operation = do[0].strip().lower()\n",
    "    if operation == 'push':\n",
    "        s.push(int(do[1]))\n",
    "    elif operation == 'pop':\n",
    "        if s.is_empty():\n",
    "            print(\"stack is empty\")\n",
    "        else:\n",
    "            print(\"popped value: \",s.pop())\n",
    "    elif operation == 'display':\n",
    "        print(s.display())\n",
    "    \n",
    "    elif operation == 'size':\n",
    "        print(s.size())\n",
    "    \n",
    "    elif operation == 'quit':\n",
    "        break\n",
    "    "
   ]
  },
  {
   "cell_type": "code",
   "execution_count": 7,
   "metadata": {},
   "outputs": [
    {
     "name": "stdout",
     "output_type": "stream",
     "text": [
      "enter the stringabs\n",
      "not palindrome\n"
     ]
    }
   ],
   "source": [
    "class Stack:\n",
    "    def __init__(self):\n",
    "        self.items = []\n",
    "        \n",
    "    def is_empty(self):\n",
    "        return self.items == []\n",
    "    \n",
    "    def push(self, data):\n",
    "        self.items.append(data)\n",
    "        \n",
    "    def pop(self):\n",
    "        return self.items.pop()\n",
    "    \n",
    "   \n",
    "    \n",
    "s = Stack()\n",
    "text = input(\"enter the string\")\n",
    "for x in text:\n",
    "    s.push(x)\n",
    "rev = ''\n",
    "while not s.is_empty():\n",
    "    rev = rev +s.pop()\n",
    "if text == rev:\n",
    "    print(\"palindrom string\")\n",
    "else:\n",
    "    print(\"not palindrome\")"
   ]
  },
  {
   "cell_type": "code",
   "execution_count": 9,
   "metadata": {},
   "outputs": [
    {
     "name": "stdout",
     "output_type": "stream",
     "text": [
      "6\n"
     ]
    },
    {
     "data": {
      "text/plain": [
       "[15, 15, 18, 9, 18, 15]"
      ]
     },
     "execution_count": 9,
     "metadata": {},
     "output_type": "execute_result"
    }
   ],
   "source": [
    "import random \n",
    "l = []\n",
    "for i in range(int(input())):\n",
    "    l.append(random.randint(7,20))\n",
    "l"
   ]
  },
  {
   "cell_type": "markdown",
   "metadata": {},
   "source": [
    "# queue operation"
   ]
  },
  {
   "cell_type": "code",
   "execution_count": 12,
   "metadata": {},
   "outputs": [
    {
     "name": "stdout",
     "output_type": "stream",
     "text": [
      "enqueue <value>\n",
      "dequeue\n",
      "quit\n",
      "display\n",
      "what you want?enqueue 11\n",
      "enqueue <value>\n",
      "dequeue\n",
      "quit\n",
      "display\n",
      "what you want?display\n",
      "[11]\n",
      "enqueue <value>\n",
      "dequeue\n",
      "quit\n",
      "display\n",
      "what you want?enqueue 22\n",
      "enqueue <value>\n",
      "dequeue\n",
      "quit\n",
      "display\n",
      "what you want?enqueue 44\n",
      "enqueue <value>\n",
      "dequeue\n",
      "quit\n",
      "display\n",
      "what you want?display\n",
      "[11, 22, 44]\n",
      "enqueue <value>\n",
      "dequeue\n",
      "quit\n",
      "display\n",
      "what you want?dequeue\n",
      "dequeue value : 11\n",
      "enqueue <value>\n",
      "dequeue\n",
      "quit\n",
      "display\n",
      "what you want?display\n",
      "[22, 44]\n",
      "enqueue <value>\n",
      "dequeue\n",
      "quit\n",
      "display\n",
      "what you want?quit\n"
     ]
    }
   ],
   "source": [
    "class Queue:\n",
    "    def __init__(self):\n",
    "        self.items = []\n",
    "    def is_empty(self):\n",
    "        self.items == []\n",
    "    def enqueue(self, data):\n",
    "        self.items.append(data)\n",
    "    def dequeue(self):\n",
    "        return self.items.pop(0)\n",
    "    def display(self):\n",
    "        return self.items\n",
    "en = Queue()\n",
    "while True:\n",
    "    print(\"enqueue <value>\")\n",
    "    print(\"dequeue\")\n",
    "    print(\"quit\")\n",
    "    print(\"display\")\n",
    "    \n",
    "    do = input(\"what you want?\").split()\n",
    "    operation = do[0].strip().lower()\n",
    "    if operation == 'enqueue':\n",
    "        en.enqueue(int(do[1]))\n",
    "    elif operation == 'dequeue':\n",
    "        if en.is_empty():\n",
    "            print(\"queue is empty.\")\n",
    "        else:\n",
    "            print(\"dequeue value :\", en.dequeue())\n",
    "    elif operation == 'display':\n",
    "        print(en.display())\n",
    "        \n",
    "    elif operation == 'quit':\n",
    "        break"
   ]
  },
  {
   "cell_type": "code",
   "execution_count": null,
   "metadata": {},
   "outputs": [],
   "source": []
  }
 ],
 "metadata": {
  "kernelspec": {
   "display_name": "Python 3",
   "language": "python",
   "name": "python3"
  },
  "language_info": {
   "codemirror_mode": {
    "name": "ipython",
    "version": 3
   },
   "file_extension": ".py",
   "mimetype": "text/x-python",
   "name": "python",
   "nbconvert_exporter": "python",
   "pygments_lexer": "ipython3",
   "version": "3.8.5"
  }
 },
 "nbformat": 4,
 "nbformat_minor": 4
}
