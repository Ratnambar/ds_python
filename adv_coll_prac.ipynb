{
 "cells": [
  {
   "cell_type": "code",
   "execution_count": 1,
   "id": "693a1349-9288-41e9-9021-14bbf1f7c23d",
   "metadata": {},
   "outputs": [
    {
     "data": {
      "text/plain": [
       "[('a', 5), ('b', 2), ('r', 2)]"
      ]
     },
     "execution_count": 1,
     "metadata": {},
     "output_type": "execute_result"
    }
   ],
   "source": [
    "from collections import Counter\n",
    "s = Counter('abracadabra')\n",
    "s.most_common(3)"
   ]
  },
  {
   "cell_type": "code",
   "execution_count": 2,
   "id": "99e7c7b8-ca80-4bb3-bd8d-21a568f3c086",
   "metadata": {},
   "outputs": [
    {
     "data": {
      "text/plain": [
       "Counter({'a': 3, 'b': 0, 'c': -3, 'd': -6})"
      ]
     },
     "execution_count": 2,
     "metadata": {},
     "output_type": "execute_result"
    }
   ],
   "source": [
    "c = Counter(a=4, b=2, c=0, d=-2)\n",
    "d = Counter(a=1, b=2, c=3, d=4)\n",
    "c.subtract(d)\n",
    "c"
   ]
  },
  {
   "cell_type": "code",
   "execution_count": 3,
   "id": "87be840e-1218-435e-ad43-a07267576e37",
   "metadata": {},
   "outputs": [
    {
     "data": {
      "text/plain": [
       "15"
      ]
     },
     "execution_count": 3,
     "metadata": {},
     "output_type": "execute_result"
    }
   ],
   "source": [
    "c = Counter(a=10, b=5, c=0)\n",
    "c.total()"
   ]
  },
  {
   "cell_type": "code",
   "execution_count": 4,
   "id": "3610a1de-3e71-4475-b65f-5df37c2297d4",
   "metadata": {},
   "outputs": [
    {
     "name": "stdout",
     "output_type": "stream",
     "text": [
      "deque([11, 1, 2, 3])\n",
      "deque([1, 2, 3])\n",
      "deque([1, 2, 3, 4, 5])\n",
      "deque([11, 10, 1, 2, 3, 4, 5])\n",
      "deque([5, 4, 3, 2, 1, 10, 11])\n",
      "deque([3, 2, 1, 10, 11, 5, 4])\n"
     ]
    }
   ],
   "source": [
    "from collections import deque\n",
    "l = deque([1,2,3])\n",
    "l1 = deque([4,5])\n",
    "l.appendleft(11)\n",
    "print(l)\n",
    "l.popleft()\n",
    "print(l)\n",
    "l.extend(l1)\n",
    "print(l)\n",
    "l2 = [10,11]\n",
    "l.extendleft(l2)\n",
    "print(l)\n",
    "l.reverse()\n",
    "print(l)\n",
    "l.rotate(-2)\n",
    "print(l)"
   ]
  },
  {
   "cell_type": "code",
   "execution_count": 5,
   "id": "4b164b0f-44bb-4ba0-8d88-9b5f72f71611",
   "metadata": {},
   "outputs": [
    {
     "data": {
      "text/plain": [
       "deque(['c', 'b', 'a'])"
      ]
     },
     "execution_count": 5,
     "metadata": {},
     "output_type": "execute_result"
    }
   ],
   "source": [
    "d = deque()\n",
    "d.extendleft('abc')\n",
    "d"
   ]
  },
  {
   "cell_type": "code",
   "execution_count": 6,
   "id": "337ff7e6-efa2-4a31-8216-818a6d62b379",
   "metadata": {},
   "outputs": [
    {
     "data": {
      "text/plain": [
       "[('blue', [2, 4]), ('red', [1]), ('yellow', [1, 3])]"
      ]
     },
     "execution_count": 6,
     "metadata": {},
     "output_type": "execute_result"
    }
   ],
   "source": [
    "from collections import *\n",
    "s = [('yellow', 1), ('blue', 2), ('yellow', 3), ('blue', 4), ('red', 1)]\n",
    "d = defaultdict(list)\n",
    "for k,v in s:\n",
    "    d[k].append(v)\n",
    "d = dict(d)\n",
    "sorted(d.items())"
   ]
  },
  {
   "cell_type": "code",
   "execution_count": 7,
   "id": "34704563-dca8-48d3-8561-347adac54c17",
   "metadata": {},
   "outputs": [],
   "source": [
    "d = {'x': 11, 'y': 22}"
   ]
  },
  {
   "cell_type": "code",
   "execution_count": 8,
   "id": "956edd7f-fe97-48c7-9017-390086ac3563",
   "metadata": {},
   "outputs": [
    {
     "data": {
      "text/plain": [
       "OrderedDict([('a', None), ('c', None), ('d', None), ('e', None), ('b', None)])"
      ]
     },
     "execution_count": 8,
     "metadata": {},
     "output_type": "execute_result"
    }
   ],
   "source": [
    "d = OrderedDict.fromkeys('abcde')\n",
    "d.move_to_end('b')\n",
    "d"
   ]
  },
  {
   "cell_type": "code",
   "execution_count": 9,
   "id": "bcee98f8-2ff6-4520-be98-6ce49b226efb",
   "metadata": {},
   "outputs": [
    {
     "name": "stdout",
     "output_type": "stream",
     "text": [
      "Counter({'a': 2})\n",
      "Counter({'b': 4})\n"
     ]
    }
   ],
   "source": [
    "c = Counter(a=2, b=-4)\n",
    "print(+c)\n",
    "print(-c)"
   ]
  },
  {
   "cell_type": "code",
   "execution_count": 10,
   "id": "a7a23a78-404c-42b8-aa19-78d24a600fac",
   "metadata": {},
   "outputs": [
    {
     "name": "stdout",
     "output_type": "stream",
     "text": [
      "['a', 'a', 'a', 'a', 'b', 'b']\n"
     ]
    }
   ],
   "source": [
    "c = Counter(a=4, b=2, c=0, d=-2)\n",
    "print(list(c.elements()))"
   ]
  },
  {
   "cell_type": "code",
   "execution_count": 11,
   "id": "f062ab32-dc77-4e1d-9361-932499df4261",
   "metadata": {},
   "outputs": [
    {
     "data": {
      "text/plain": [
       "[(1, 3), (2, 2)]"
      ]
     },
     "execution_count": 11,
     "metadata": {},
     "output_type": "execute_result"
    }
   ],
   "source": [
    "from collections import *\n",
    "l = [1, 1, 1, 2, 2, 3]\n",
    "l1 = Counter(l).most_common(2)\n",
    "l1"
   ]
  },
  {
   "cell_type": "code",
   "execution_count": 12,
   "id": "5f5e3252-f5c4-4fa3-8e80-9c1bb43c00fc",
   "metadata": {},
   "outputs": [
    {
     "name": "stdout",
     "output_type": "stream",
     "text": [
      "[['tea', 'ate'], ['ate', 'eat'], ['nta', 'ant'], ['eat', 'tea'], ['tna', 'atn'], ['tba', 'atb']]\n"
     ]
    }
   ],
   "source": [
    "from collections import *\n",
    "strs = [\"eat\", \"tea\", \"tan\", \"ate\", \"nat\", \"bat\"]\n",
    "\n",
    "l1 = []\n",
    "def anag(strs):\n",
    "    for x in strs:\n",
    "        d = deque(x)\n",
    "        l = []\n",
    "        for i in range(len(d)-1):\n",
    "            d.rotate()\n",
    "            l.append(''.join(d))\n",
    "        l1.append(l)\n",
    "    return l1\n",
    "print(anag(strs))"
   ]
  },
  {
   "cell_type": "code",
   "execution_count": 13,
   "id": "299f1614-23da-4ef0-b690-97b96317e818",
   "metadata": {},
   "outputs": [
    {
     "name": "stdout",
     "output_type": "stream",
     "text": [
      "{'a': ['c'], 'b': ['c', 'e'], 'c': ['d', 'e', 'a', 'b'], 'e': ['b', 'c'], 'd': ['c']}\n",
      "[('a', 'c'), ('b', 'c'), ('b', 'e'), ('c', 'd'), ('c', 'e'), ('c', 'a'), ('c', 'b'), ('e', 'b'), ('e', 'c'), ('d', 'c')]\n"
     ]
    }
   ],
   "source": [
    "from collections import defaultdict\n",
    "graph = defaultdict(list)\n",
    "def addEdge(graph, u, v):\n",
    "    graph[u].append(v)\n",
    "    return graph\n",
    "def generate_edges(graph):\n",
    "    edges = []\n",
    "    for node in graph:\n",
    "        for nbr in graph[node]:\n",
    "            edges.append((node,nbr))\n",
    "    return edges\n",
    "\n",
    "addEdge(graph,'a','c') \n",
    "addEdge(graph,'b','c') \n",
    "addEdge(graph,'b','e') \n",
    "addEdge(graph,'c','d') \n",
    "addEdge(graph,'c','e') \n",
    "addEdge(graph,'c','a') \n",
    "addEdge(graph,'c','b') \n",
    "addEdge(graph,'e','b') \n",
    "addEdge(graph,'d','c') \n",
    "addEdge(graph,'e','c') \n",
    "print(dict(graph))\n",
    "# Driver Function call  \n",
    "# to print generated graph \n",
    "print(generate_edges(graph))"
   ]
  },
  {
   "cell_type": "code",
   "execution_count": 14,
   "id": "19b502d2-4b64-44ed-aaca-b310f86dbb54",
   "metadata": {},
   "outputs": [
    {
     "name": "stdout",
     "output_type": "stream",
     "text": [
      "hELLO wORLD\n"
     ]
    }
   ],
   "source": [
    "s = \"Hello World\"\n",
    "s = s.swapcase()\n",
    "print(s)"
   ]
  },
  {
   "cell_type": "code",
   "execution_count": 15,
   "id": "108fdaed-3eda-4bcb-96eb-204a6dd6bbc0",
   "metadata": {},
   "outputs": [
    {
     "data": {
      "text/plain": [
       "'hii world'"
      ]
     },
     "execution_count": 15,
     "metadata": {},
     "output_type": "execute_result"
    }
   ],
   "source": [
    "s = 'hello world'\n",
    "s1 = s.replace('hello','hii')\n",
    "s1"
   ]
  },
  {
   "cell_type": "code",
   "execution_count": 16,
   "id": "0176fb85-86af-4b89-8395-3923ead1b3b9",
   "metadata": {},
   "outputs": [
    {
     "name": "stdout",
     "output_type": "stream",
     "text": [
      "['hello', 'world']\n"
     ]
    }
   ],
   "source": [
    "s = \"hello world\"\n",
    "print(s.split(\" \"))"
   ]
  },
  {
   "cell_type": "code",
   "execution_count": 17,
   "id": "e6e319eb-67cc-40ad-8974-b9053dd03dbe",
   "metadata": {},
   "outputs": [
    {
     "name": "stdout",
     "output_type": "stream",
     "text": [
      "13\n",
      "hello world\n",
      "11\n"
     ]
    }
   ],
   "source": [
    "s =  \" hello world \"\n",
    "print(len(s))\n",
    "s1 = s.strip()\n",
    "print(s1)\n",
    "print(len(s1))"
   ]
  },
  {
   "cell_type": "code",
   "execution_count": 18,
   "id": "bf77f5de-b39f-4458-97d2-b2700bd79928",
   "metadata": {},
   "outputs": [
    {
     "name": "stdout",
     "output_type": "stream",
     "text": [
      "[1, 3, 4, 7, 9]\n"
     ]
    }
   ],
   "source": [
    "# quick sort\n",
    "def partition(arr,low,high):\n",
    "    index = high\n",
    "    pivot = arr[index]\n",
    "    i = low-1\n",
    "    for j in range(low,high):\n",
    "        if arr[j] <= arr[index]:\n",
    "            i+=1\n",
    "            arr[i],arr[j] = arr[j],arr[i]\n",
    "    arr[i+1],arr[index] = arr[index],arr[i+1]\n",
    "    return i+1\n",
    "\n",
    "def quick_sort(arr,low,high):\n",
    "    if low < high:\n",
    "        pi = partition(arr,low,high)\n",
    "        quick_sort(arr,low,pi-1)\n",
    "        quick_sort(arr,pi+1,high)\n",
    "\n",
    "arr = [4,1,3,9,7]\n",
    "quick_sort(arr,0,len(arr)-1)\n",
    "print(arr)"
   ]
  },
  {
   "cell_type": "code",
   "execution_count": 19,
   "id": "afa61c50-81e3-4955-8dce-8ccc98a7c582",
   "metadata": {},
   "outputs": [
    {
     "name": "stdout",
     "output_type": "stream",
     "text": [
      "Given array is\n",
      "12 11 13 5 6 7 \n",
      "\n",
      "Sorted array is\n",
      "5 6 7 11 12 13 "
     ]
    }
   ],
   "source": [
    "def merge(arr,low,mid,high):\n",
    "    l1 = arr[low:mid]\n",
    "    l2 = arr[mid:high]\n",
    "    k = low\n",
    "    i = j = 0\n",
    "    while i < len(l1) and j < len(l2):\n",
    "        if l1[i] <= l2[j]:\n",
    "            arr[k] = l1[i]\n",
    "            i+=1\n",
    "        else:\n",
    "            arr[k] = l2[j]\n",
    "            j+=1\n",
    "        k+=1\n",
    "    while i < len(l1):\n",
    "        arr[k] = l1[i]\n",
    "        i+=1\n",
    "        k+=1\n",
    "    while j < len(l2):\n",
    "        arr[k] = l2[j]\n",
    "        j+=1\n",
    "        k+=1\n",
    "\n",
    "def mergeSort(arr,low,high):\n",
    "    if low < high:\n",
    "        mid = (low+high)//2\n",
    "        mergeSort(arr,low,mid)\n",
    "        mergeSort(arr,mid+1,high)\n",
    "        merge(arr,low,mid,high)\n",
    "\n",
    "# Driver code to test above\n",
    "arr = [12, 11, 13, 5, 6, 7]\n",
    "n = len(arr)\n",
    "print(\"Given array is\")\n",
    "for i in range(n):\n",
    "\tprint(\"%d\" % arr[i],end=\" \")\n",
    "\n",
    "mergeSort(arr, 0, n)\n",
    "print(\"\\n\\nSorted array is\")\n",
    "for i in range(n):\n",
    "\tprint(\"%d\" % arr[i],end=\" \")\n"
   ]
  },
  {
   "cell_type": "code",
   "execution_count": 20,
   "id": "a6d0f942-3dec-4767-8b30-31d4bccfc52f",
   "metadata": {},
   "outputs": [
    {
     "name": "stdout",
     "output_type": "stream",
     "text": [
      "[5, 6, 7, 11, 12, 13]\n"
     ]
    }
   ],
   "source": [
    "# insertion sort\n",
    "def insertion_sort(arr):\n",
    "    for i in range(1,len(arr)):\n",
    "        j = i-1\n",
    "        key = arr[i]\n",
    "        while j>= 0 and key < arr[j]:\n",
    "            arr[j+1] = arr[j]\n",
    "            j-=1\n",
    "        arr[j+1] = key\n",
    "\n",
    "arr = [12, 11, 13, 5, 6, 7]\n",
    "insertion_sort(arr)\n",
    "print(arr)"
   ]
  },
  {
   "cell_type": "code",
   "execution_count": 21,
   "id": "9e57a004-531b-481c-9ee1-2a234768d125",
   "metadata": {},
   "outputs": [
    {
     "name": "stdout",
     "output_type": "stream",
     "text": [
      "[5, 6, 7, 11, 12, 13]\n"
     ]
    }
   ],
   "source": [
    "#selection_sort\n",
    "def selection_sort(arr):\n",
    "    for i in range(len(arr)-1):\n",
    "        lowest = i\n",
    "        for j in range(i+1,len(arr)):\n",
    "            if arr[j] < arr[lowest]:\n",
    "                lowest = j\n",
    "        arr[i],arr[lowest] = arr[lowest],arr[i]\n",
    "        \n",
    "\n",
    "arr = [12, 11, 13, 5, 6, 7]\n",
    "selection_sort(arr)\n",
    "print(arr)"
   ]
  },
  {
   "cell_type": "code",
   "execution_count": 22,
   "id": "5cd22fa3-5441-423e-ac28-ff16be51a058",
   "metadata": {},
   "outputs": [
    {
     "data": {
      "text/plain": [
       "11"
      ]
     },
     "execution_count": 22,
     "metadata": {},
     "output_type": "execute_result"
    }
   ],
   "source": [
    "# kadan's Algorithm\n",
    "arr = [2,3,-8,7,-1,2,3]\n",
    "def maxSum(arr):\n",
    "    p_sum = arr[0]\n",
    "    max_sum = arr[0]\n",
    "    for i in range(1,len(arr)):\n",
    "        p_sum = max(p_sum+arr[i], arr[i])\n",
    "        max_sum = max(max_sum, p_sum)\n",
    "    return max_sum\n",
    "maxSum(arr)"
   ]
  },
  {
   "cell_type": "code",
   "execution_count": 23,
   "id": "f0b6a216-70c9-4524-945d-dde96f619b9b",
   "metadata": {},
   "outputs": [
    {
     "name": "stdout",
     "output_type": "stream",
     "text": [
      "2\n"
     ]
    }
   ],
   "source": [
    "# index of first occurance\n",
    "def search_x(arr, x):\n",
    "    low = 0\n",
    "    high = len(arr)\n",
    "    while low <= high:\n",
    "        mid = (low+high)//2\n",
    "        if arr[mid] > x:\n",
    "            high = mid-1\n",
    "        elif arr[mid] < x:\n",
    "            low = mid+1\n",
    "        else:\n",
    "            if mid == 0 or arr[mid] != arr[mid-1]:\n",
    "                return mid+1\n",
    "            else:\n",
    "                high = mid-1\n",
    "\n",
    "arr = [1,20,20,20,20,20,40]\n",
    "x = 20\n",
    "print(search_x(arr,x))"
   ]
  },
  {
   "cell_type": "code",
   "execution_count": 24,
   "id": "17b171f0-84c0-4314-a745-2c48533fdace",
   "metadata": {},
   "outputs": [
    {
     "name": "stdout",
     "output_type": "stream",
     "text": [
      "3\n"
     ]
    }
   ],
   "source": [
    "# index of last occurance\n",
    "def search_x(arr,x):\n",
    "    low = 0\n",
    "    high = len(arr)-1\n",
    "    while low <= high:\n",
    "        mid = (low+high)//2\n",
    "        if arr[mid] > x:\n",
    "            high = mid-1\n",
    "        elif arr[mid] < x:\n",
    "            low = mid+1\n",
    "        else:\n",
    "            if mid == len(arr)-1 or arr[mid] != arr[mid+1]:\n",
    "                return mid+1\n",
    "            else:\n",
    "                low = mid+1\n",
    "        \n",
    "\n",
    "arr = [1,10,10,20,20,20,40]\n",
    "x = 10\n",
    "print(search_x(arr,x))"
   ]
  },
  {
   "cell_type": "code",
   "execution_count": 25,
   "id": "45013ff8-5d19-4e2a-ba85-2ff66ca64690",
   "metadata": {},
   "outputs": [
    {
     "name": "stdout",
     "output_type": "stream",
     "text": [
      "45\n"
     ]
    }
   ],
   "source": [
    "# find a peak element\n",
    "def find_peak(arr):\n",
    "    low = 0\n",
    "    high = len(arr)-1\n",
    "    while low <= high:\n",
    "        mid = (low+high)//2\n",
    "        if (arr[mid]>arr[mid-1]) and (arr[mid]>=arr[mid+1]):\n",
    "            return arr[mid]\n",
    "        if arr[mid] < arr[mid-1]:\n",
    "            high = mid-1\n",
    "        else:\n",
    "            low = mid+1\n",
    "\n",
    "arr = [5,10,20,22,34,36,45,7]\n",
    "print(find_peak(arr))"
   ]
  },
  {
   "cell_type": "code",
   "execution_count": 22,
   "id": "6a147a3e-06fb-40f7-bb6f-e6718999f8e5",
   "metadata": {},
   "outputs": [
    {
     "name": "stdout",
     "output_type": "stream",
     "text": [
      "[0, 1]\n"
     ]
    },
    {
     "data": {
      "text/plain": [
       "[0, 1]"
      ]
     },
     "execution_count": 22,
     "metadata": {},
     "output_type": "execute_result"
    }
   ],
   "source": [
    "# find first,last index of an element\n",
    "def find_low(arr,x):\n",
    "    low = 0\n",
    "    high = len(arr)-1\n",
    "    while low <= high:\n",
    "        mid1 = (low+high)//2\n",
    "        if arr[mid1]>x:\n",
    "            high = mid1-1\n",
    "        elif arr[mid1]<x:\n",
    "            low = mid1+1\n",
    "        else:\n",
    "            if (mid1 == 0 or arr[mid1-1] != arr[mid1]):\n",
    "                return mid1\n",
    "            else:\n",
    "                high = mid1-1\n",
    "                \n",
    "def find_high(arr,x):\n",
    "    low = 0\n",
    "    high = len(arr)-1\n",
    "    while low <= high:\n",
    "        mid2 = (low+high)//2\n",
    "        if arr[mid2]>x:\n",
    "            high = mid2-1\n",
    "        elif arr[mid2]<x:\n",
    "            low = mid2+1\n",
    "        else:\n",
    "            if (mid2 == len(arr)-1 or arr[mid2] != arr[mid2+1]):\n",
    "                return mid2\n",
    "            else:\n",
    "                low = mid2+1\n",
    "\n",
    "def find_index(arr, x):\n",
    "    left = find_low(arr,x)\n",
    "    right = find_high(arr,x)\n",
    "    if left <= right:\n",
    "        print([left,right])\n",
    "        return [left,right]\n",
    "    else:\n",
    "        print([-1,-1])\n",
    "            \n",
    "\n",
    "arr = [5, 5,7, 7,7, 8, 8, 10,10]\n",
    "find_index(arr,5)"
   ]
  },
  {
   "cell_type": "code",
   "execution_count": 30,
   "id": "63ced2e4-eedc-49c7-ab4a-99cd7d2ea44c",
   "metadata": {},
   "outputs": [
    {
     "name": "stdout",
     "output_type": "stream",
     "text": [
      "6\n"
     ]
    }
   ],
   "source": [
    "'''Write a Python function to find the contiguous subarray with the largest product\n",
    "using Kadane's algorithm.'''\n",
    "def find_prod(arr):\n",
    "    max_prod = arr[0]\n",
    "    min_prod = arr[0]\n",
    "    res = arr[0]\n",
    "    for i in range(1,len(arr)):\n",
    "        temp = max_prod\n",
    "        max_prod = max(arr[i], arr[i]*max_prod, arr[i]*min_prod)\n",
    "        min_prod = min(arr[i],arr[i]*temp, arr[i]*min_prod)\n",
    "        res = max(res,max_prod,min_prod)\n",
    "    return res\n",
    "\n",
    "arr = [2, 3, -2, 4]\n",
    "print(find_prod(arr))"
   ]
  },
  {
   "cell_type": "code",
   "execution_count": 61,
   "id": "013e0e42-5a5a-427f-9389-c49230cd8ac7",
   "metadata": {},
   "outputs": [
    {
     "ename": "RecursionError",
     "evalue": "maximum recursion depth exceeded",
     "output_type": "error",
     "traceback": [
      "\u001b[0;31m---------------------------------------------------------------------------\u001b[0m",
      "\u001b[0;31mRecursionError\u001b[0m                            Traceback (most recent call last)",
      "Cell \u001b[0;32mIn[61], line 51\u001b[0m\n\u001b[1;32m     49\u001b[0m n \u001b[38;5;241m=\u001b[39m \u001b[38;5;28mlen\u001b[39m(arr) \n\u001b[1;32m     50\u001b[0m low \u001b[38;5;241m=\u001b[39m \u001b[38;5;241m0\u001b[39m\n\u001b[0;32m---> 51\u001b[0m result \u001b[38;5;241m=\u001b[39m \u001b[43mmergeSort\u001b[49m\u001b[43m(\u001b[49m\u001b[43marr\u001b[49m\u001b[43m,\u001b[49m\u001b[43mlow\u001b[49m\u001b[43m,\u001b[49m\u001b[43m \u001b[49m\u001b[43mn\u001b[49m\u001b[43m)\u001b[49m \n\u001b[1;32m     52\u001b[0m \u001b[38;5;28mprint\u001b[39m(\u001b[38;5;124m\"\u001b[39m\u001b[38;5;124mNumber of inversions are\u001b[39m\u001b[38;5;124m\"\u001b[39m, result)\n",
      "Cell \u001b[0;32mIn[61], line 41\u001b[0m, in \u001b[0;36mmergeSort\u001b[0;34m(arr, low, n)\u001b[0m\n\u001b[1;32m     39\u001b[0m \u001b[38;5;28;01mif\u001b[39;00m low \u001b[38;5;241m<\u001b[39m\u001b[38;5;241m=\u001b[39m high:\n\u001b[1;32m     40\u001b[0m     mid \u001b[38;5;241m=\u001b[39m (low\u001b[38;5;241m+\u001b[39mhigh)\u001b[38;5;241m/\u001b[39m\u001b[38;5;241m/\u001b[39m\u001b[38;5;241m2\u001b[39m\n\u001b[0;32m---> 41\u001b[0m     inv_count\u001b[38;5;241m=\u001b[39m\u001b[43mmergeSort\u001b[49m\u001b[43m(\u001b[49m\u001b[43marr\u001b[49m\u001b[43m,\u001b[49m\u001b[43mlow\u001b[49m\u001b[43m,\u001b[49m\u001b[43mmid\u001b[49m\u001b[43m)\u001b[49m\n\u001b[1;32m     42\u001b[0m     inv_count\u001b[38;5;241m=\u001b[39mmergeSort(arr,mid\u001b[38;5;241m+\u001b[39m\u001b[38;5;241m1\u001b[39m,high)\n\u001b[1;32m     43\u001b[0m     inv_count\u001b[38;5;241m=\u001b[39mmerge(arr,low,mid,high)\n",
      "Cell \u001b[0;32mIn[61], line 41\u001b[0m, in \u001b[0;36mmergeSort\u001b[0;34m(arr, low, n)\u001b[0m\n\u001b[1;32m     39\u001b[0m \u001b[38;5;28;01mif\u001b[39;00m low \u001b[38;5;241m<\u001b[39m\u001b[38;5;241m=\u001b[39m high:\n\u001b[1;32m     40\u001b[0m     mid \u001b[38;5;241m=\u001b[39m (low\u001b[38;5;241m+\u001b[39mhigh)\u001b[38;5;241m/\u001b[39m\u001b[38;5;241m/\u001b[39m\u001b[38;5;241m2\u001b[39m\n\u001b[0;32m---> 41\u001b[0m     inv_count\u001b[38;5;241m=\u001b[39m\u001b[43mmergeSort\u001b[49m\u001b[43m(\u001b[49m\u001b[43marr\u001b[49m\u001b[43m,\u001b[49m\u001b[43mlow\u001b[49m\u001b[43m,\u001b[49m\u001b[43mmid\u001b[49m\u001b[43m)\u001b[49m\n\u001b[1;32m     42\u001b[0m     inv_count\u001b[38;5;241m=\u001b[39mmergeSort(arr,mid\u001b[38;5;241m+\u001b[39m\u001b[38;5;241m1\u001b[39m,high)\n\u001b[1;32m     43\u001b[0m     inv_count\u001b[38;5;241m=\u001b[39mmerge(arr,low,mid,high)\n",
      "    \u001b[0;31m[... skipping similar frames: mergeSort at line 41 (2974 times)]\u001b[0m\n",
      "Cell \u001b[0;32mIn[61], line 41\u001b[0m, in \u001b[0;36mmergeSort\u001b[0;34m(arr, low, n)\u001b[0m\n\u001b[1;32m     39\u001b[0m \u001b[38;5;28;01mif\u001b[39;00m low \u001b[38;5;241m<\u001b[39m\u001b[38;5;241m=\u001b[39m high:\n\u001b[1;32m     40\u001b[0m     mid \u001b[38;5;241m=\u001b[39m (low\u001b[38;5;241m+\u001b[39mhigh)\u001b[38;5;241m/\u001b[39m\u001b[38;5;241m/\u001b[39m\u001b[38;5;241m2\u001b[39m\n\u001b[0;32m---> 41\u001b[0m     inv_count\u001b[38;5;241m=\u001b[39m\u001b[43mmergeSort\u001b[49m\u001b[43m(\u001b[49m\u001b[43marr\u001b[49m\u001b[43m,\u001b[49m\u001b[43mlow\u001b[49m\u001b[43m,\u001b[49m\u001b[43mmid\u001b[49m\u001b[43m)\u001b[49m\n\u001b[1;32m     42\u001b[0m     inv_count\u001b[38;5;241m=\u001b[39mmergeSort(arr,mid\u001b[38;5;241m+\u001b[39m\u001b[38;5;241m1\u001b[39m,high)\n\u001b[1;32m     43\u001b[0m     inv_count\u001b[38;5;241m=\u001b[39mmerge(arr,low,mid,high)\n",
      "\u001b[0;31mRecursionError\u001b[0m: maximum recursion depth exceeded"
     ]
    }
   ],
   "source": [
    "# Python3 program to count inversions \n",
    "# in an array \n",
    "def merge(arr,low,mid,high):\n",
    "    l1 = l2 = []\n",
    "    l1 = arr[:mid+1]\n",
    "    l2 = arr[mid+1:]\n",
    "    print(l1,l2)\n",
    "    i = low\n",
    "    j = mid\n",
    "    k = low\n",
    "    temp = []\n",
    "    inv_count = 0\n",
    "    while i < mid and j < len(l2):\n",
    "        if l1[i] <= l2[j]:\n",
    "            temp[k] = l1[i]\n",
    "            i+=1\n",
    "            k+=1\n",
    "        else:\n",
    "            temp[k] = l2[j]\n",
    "            inv_count+=(mid-i+1)\n",
    "            j+=1\n",
    "            k+=1\n",
    "    while i <= mid:\n",
    "        temp[k] = l1[i]\n",
    "        i+=1\n",
    "        k+=1\n",
    "    while j <= len(l2):\n",
    "        temp[k] = l2[j]\n",
    "        j+=1\n",
    "        k+=1\n",
    "    print(inv_count)\n",
    "    return inv_count\n",
    "\n",
    "\n",
    "def mergeSort(arr,low,n):\n",
    "    low = low\n",
    "    high = n\n",
    "    inv_count = 0\n",
    "    if low <= high:\n",
    "        mid = (low+high)//2\n",
    "        inv_count=mergeSort(arr,low,mid)\n",
    "        inv_count=mergeSort(arr,mid+1,high)\n",
    "        inv_count=merge(arr,low,mid,high)\n",
    "\n",
    "\n",
    "# Driver Code \n",
    "# Given array is \n",
    "arr = [1, 20, 6, 4, 5,8] \n",
    "n = len(arr) \n",
    "low = 0\n",
    "result = mergeSort(arr,low, n) \n",
    "print(\"Number of inversions are\", result)"
   ]
  },
  {
   "cell_type": "code",
   "execution_count": 6,
   "id": "743d32c4-4e28-4a4e-89fe-c6df27ef2a34",
   "metadata": {},
   "outputs": [
    {
     "name": "stdout",
     "output_type": "stream",
     "text": [
      "[0, 3]\n"
     ]
    }
   ],
   "source": [
    "def find_pair(nums,target):\n",
    "    left = 0\n",
    "    right = len(nums)-1\n",
    "    p_sum = 0\n",
    "    while left < right:\n",
    "        if nums[left]+nums[right] > target:\n",
    "            right-=1\n",
    "        if nums[left]+nums[right] < target:\n",
    "            left+=1\n",
    "        else:\n",
    "            return [left,right]\n",
    "nums = [2,5, 7, 11, 15]\n",
    "target = 7\n",
    "print(find_pair(nums,target))"
   ]
  },
  {
   "cell_type": "code",
   "execution_count": 10,
   "id": "45f1d9ba-71f1-4e18-9f10-6f89111758dd",
   "metadata": {},
   "outputs": [
    {
     "name": "stdout",
     "output_type": "stream",
     "text": [
      "[1, 2, 3, 4]\n"
     ]
    }
   ],
   "source": [
    "def rem_duplicate(arr):\n",
    "    slow = 0\n",
    "    fast = 1\n",
    "    while fast < len(arr):\n",
    "        if arr[fast] == arr[slow]:\n",
    "            arr.remove(arr[fast])\n",
    "        else:\n",
    "            slow+=1\n",
    "            fast+=1\n",
    "    return arr\n",
    "        \n",
    "    \n",
    "arr = [1, 1, 2,2,3,3,4,4]\n",
    "print(rem_duplicate(arr))"
   ]
  },
  {
   "cell_type": "code",
   "execution_count": null,
   "id": "d944ad38-858d-424c-859d-159d63a19d40",
   "metadata": {},
   "outputs": [],
   "source": []
  },
  {
   "cell_type": "code",
   "execution_count": null,
   "id": "8b46d3a1-051b-413d-8759-c20635c5bce5",
   "metadata": {},
   "outputs": [],
   "source": []
  },
  {
   "cell_type": "code",
   "execution_count": null,
   "id": "9bce5147-280a-45c3-8471-4fab020087cb",
   "metadata": {},
   "outputs": [],
   "source": []
  },
  {
   "cell_type": "code",
   "execution_count": null,
   "id": "cfe41ccd-5abb-4582-8873-15affade94f6",
   "metadata": {},
   "outputs": [],
   "source": []
  },
  {
   "cell_type": "code",
   "execution_count": null,
   "id": "aba90dba-2b81-4176-8182-e78d5fbe2dd4",
   "metadata": {},
   "outputs": [],
   "source": []
  },
  {
   "cell_type": "code",
   "execution_count": null,
   "id": "ef713f98-52de-46b8-bdc1-ffe0e14c9b96",
   "metadata": {},
   "outputs": [],
   "source": []
  },
  {
   "cell_type": "code",
   "execution_count": null,
   "id": "f34ee742-446a-405a-be78-79820cf88567",
   "metadata": {},
   "outputs": [],
   "source": []
  },
  {
   "cell_type": "code",
   "execution_count": null,
   "id": "4ef930b6-cb3c-4470-b8bf-a38b1113fbd1",
   "metadata": {},
   "outputs": [],
   "source": []
  },
  {
   "cell_type": "code",
   "execution_count": null,
   "id": "e7a6d519-1dcf-4fee-a329-6c35807a8e56",
   "metadata": {},
   "outputs": [],
   "source": []
  },
  {
   "cell_type": "code",
   "execution_count": null,
   "id": "bcf162ac-ebea-4018-838f-1db2d1e83da3",
   "metadata": {},
   "outputs": [],
   "source": []
  },
  {
   "cell_type": "code",
   "execution_count": null,
   "id": "040e4d4b-6ec2-4071-b108-0284f49aaf7a",
   "metadata": {},
   "outputs": [],
   "source": []
  },
  {
   "cell_type": "code",
   "execution_count": null,
   "id": "8b3c4f70-8d85-459a-9cd9-67589769b796",
   "metadata": {},
   "outputs": [],
   "source": []
  },
  {
   "cell_type": "code",
   "execution_count": null,
   "id": "f93bbd85-9529-4693-b9f3-8a83455bb016",
   "metadata": {},
   "outputs": [],
   "source": []
  }
 ],
 "metadata": {
  "kernelspec": {
   "display_name": "Python 3 (ipykernel)",
   "language": "python",
   "name": "python3"
  },
  "language_info": {
   "codemirror_mode": {
    "name": "ipython",
    "version": 3
   },
   "file_extension": ".py",
   "mimetype": "text/x-python",
   "name": "python",
   "nbconvert_exporter": "python",
   "pygments_lexer": "ipython3",
   "version": "3.12.3"
  }
 },
 "nbformat": 4,
 "nbformat_minor": 5
}
