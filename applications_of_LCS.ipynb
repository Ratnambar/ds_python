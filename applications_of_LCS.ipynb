{
 "cells": [
  {
   "cell_type": "code",
   "execution_count": 2,
   "id": "7b7721f0-fd5e-42ea-a8ae-87858ca4319f",
   "metadata": {},
   "outputs": [
    {
     "name": "stdout",
     "output_type": "stream",
     "text": [
      "ADBB\n"
     ]
    }
   ],
   "source": [
    "X = \"ABCBDAB\"\n",
    "Y = \"BDCAB\"\n",
    "def lcs(X, Y):\n",
    "    l = [[0]*(len(Y)+1) for i in range(len(X)+1)]\n",
    "    for i in range(1,len(X)+1):\n",
    "        for j in range(1,len(Y)+1):\n",
    "            if X[i-1] == Y[j-1]:\n",
    "                l[i][j] = 1+l[i-1][j-1]\n",
    "            else:\n",
    "                l[i][j] = max(l[i][j-1], l[i-1][j])\n",
    "    m = len(X)\n",
    "    n = len(Y)\n",
    "    index = l[m][n]\n",
    "    lcs_str = ['']*index\n",
    "    i, j = m, n\n",
    "    while i > 0 and j > 0:\n",
    "        if X[i-1] == Y[j-1]:\n",
    "            lcs_str.insert(index-1,X[i-1])\n",
    "            i-=1\n",
    "            j-=1\n",
    "        elif l[i-1][j] > l[i][j-1]:\n",
    "            i-=1\n",
    "        else:\n",
    "            j-=1\n",
    "    return ''.join(lcs_str)\n",
    "print(lcs(X, Y))"
   ]
  },
  {
   "cell_type": "code",
   "execution_count": null,
   "id": "1da4451f-0812-4a0c-b275-6bd2ebd2c0ec",
   "metadata": {},
   "outputs": [],
   "source": [
    "# longest increasing subsequence\n",
    "def ceil_val(tail, l ,r ,x):\n",
    "    while r > l:\n",
    "        m = l+int((r-l)/2)\n",
    "        if tail[m] >= x:\n",
    "            r = m\n",
    "        else:\n",
    "            l = m+1\n",
    "    return r\n",
    "\n",
    "def lis(arr, n):\n",
    "    tail = [0]*n\n",
    "    tail[0] = arr[0]\n",
    "    lenn = 1\n",
    "    for i in range(1, n):\n",
    "        if arr[i] > tail[lenn-1]:\n",
    "            tail.insert(lenn, arr[i])\n",
    "            lenn+=1\n",
    "        else:\n",
    "            c = ceil_val(tail, 0 , lenn-1, arr[i])\n",
    "            tail[c] = arr[i]\n",
    "    return lenn\n",
    "\n",
    "l = [3,10,20,4,6,7,1]\n",
    "lis(l, len(l))"
   ]
  },
  {
   "cell_type": "code",
   "execution_count": null,
   "id": "b22f76cf-896d-4044-b71a-e76e38d9cac4",
   "metadata": {},
   "outputs": [],
   "source": [
    "def ceil_val(tail, l, r, x):\n",
    "    while r > l:\n",
    "        m = l+int((r-l)/2)\n",
    "        if tail[m] >= x:\n",
    "            r = m\n",
    "        else:\n",
    "            l = m+1\n",
    "    return r\n",
    "\n",
    "def lis(arr, n):\n",
    "    tail = [0]*n\n",
    "    tail[0] = arr[0]\n",
    "    lenn = 1\n",
    "    for i in range(1, n):\n",
    "        if arr[i] > tail[lenn-1]:\n",
    "            tail[lenn]= arr[i]\n",
    "            lenn+=1\n",
    "        else:\n",
    "            c = ceil_val(tail, 0, lenn-1, arr[i])\n",
    "            tail[c] = arr[i]\n",
    "    \n",
    "    return tail,lenn\n",
    "\n",
    "# arr = [10, 22, 9, 33, 21, 50, 41, 60, 80]\n",
    "arr = [3, 10, 20, 4, 6, 7]\n",
    "lis(arr, len(arr))"
   ]
  },
  {
   "cell_type": "code",
   "execution_count": 3,
   "id": "7176a96c-582f-483a-8cd0-379f1c97d4a4",
   "metadata": {},
   "outputs": [
    {
     "data": {
      "text/plain": [
       "4"
      ]
     },
     "execution_count": 3,
     "metadata": {},
     "output_type": "execute_result"
    }
   ],
   "source": [
    "''' Given an array and a range [l, r], find the length of the longest increasing subsequence with\n",
    "elements only within the given range.'''\n",
    "def ceil_val(tail, l, r, x):\n",
    "    while r > l:\n",
    "        m = l+int((r-l)/2)\n",
    "        if tail[m] == x:\n",
    "            r = m\n",
    "        else:\n",
    "            l = m+1\n",
    "    return r\n",
    "\n",
    "def lis(arr, n, l ,r):\n",
    "    tail = [0]*n\n",
    "    tail[0] = arr[0]\n",
    "    lenn = 1\n",
    "    for i in range(1, n):\n",
    "        if arr[i] > tail[lenn-1]:\n",
    "            tail[lenn] = arr[i]\n",
    "            lenn+=1\n",
    "        else:\n",
    "            c = ceil_val(tail, l, r, arr[i])\n",
    "            tail[c] = arr[i]\n",
    "    return lenn\n",
    "\n",
    "arr = [1, 4, 2, 5, 3, 6]\n",
    "l = 2\n",
    "r = 5\n",
    "lis(arr, len(arr),l, r)"
   ]
  },
  {
   "cell_type": "code",
   "execution_count": null,
   "id": "331b183a-ce6a-496e-bda8-e6bf51fcc312",
   "metadata": {},
   "outputs": [],
   "source": [
    "''' Given a ribbon length n and three possible cut lengths a, b, and c, \n",
    "find the maximum number of pieces that the ribbon can be cut into.'''\n",
    "def max_cuts(n, a, b, c):\n",
    "    dp = [0]*(n+1)\n",
    "    dp[0] = 0\n",
    "    for i in range(1, n+1):\n",
    "        dp[i] = -1\n",
    "        if i-a >= 0:\n",
    "            dp[i] = max(dp[i], dp[i-a])\n",
    "        if i-b >= 0:\n",
    "            dp[i] = max(dp[i], dp[i-b])\n",
    "        if i-c >= 0:\n",
    "            dp[i] = max(dp[i], dp[i-c])\n",
    "        if dp[i] != -1:\n",
    "            dp[i]+=1\n",
    "    return dp[n]\n",
    "\n",
    "n = 5\n",
    "a = 2\n",
    "b = 1\n",
    "c = 5\n",
    "max_cuts(n, a, b, c)"
   ]
  },
  {
   "cell_type": "code",
   "execution_count": null,
   "id": "b6f6032f-ed4a-40d9-b23b-40aa6326633e",
   "metadata": {},
   "outputs": [],
   "source": [
    "def max_cuts(n, price):\n",
    "    dp = [0]*(n+1)\n",
    "    max_val = -1000\n",
    "    for i in range(1, n+1):\n",
    "        for j in range(i):\n",
    "            max_val = max(max_val, price[j]+dp[i-j-1])\n",
    "        dp[i] = max_val\n",
    "    for x in dp:\n",
    "        print(x,end=\" \")\n",
    "    return dp[n]\n",
    "\n",
    "n = 8\n",
    "price = [1,5,6,9,11,12,14,16]\n",
    "max_cuts(n, price)"
   ]
  },
  {
   "cell_type": "code",
   "execution_count": 26,
   "id": "b8e93d7c-ec20-47ec-8efb-88ee64d1671c",
   "metadata": {},
   "outputs": [
    {
     "data": {
      "text/plain": [
       "[8, 7, 6, 4, 3, 2, 0]"
      ]
     },
     "execution_count": 26,
     "metadata": {},
     "output_type": "execute_result"
    }
   ],
   "source": [
    "def cutTheSticks(arr):\n",
    "    # Write your code here\n",
    "    n = len(arr)\n",
    "    l = []\n",
    "    l.append(n)\n",
    "    while n > 0:\n",
    "        m = min(arr)\n",
    "        for i in range(n):\n",
    "            arr[i] = arr[i]-m\n",
    "        arr = [x for x in arr if x>0] \n",
    "        n = len(arr)\n",
    "        l.append(n)\n",
    "        \n",
    "    return l[0:len(l)]\n",
    "# cutTheSticks([5,4,4,2,2,8])\n",
    "cutTheSticks([8,8,14,10,3,5,14,12])"
   ]
  },
  {
   "cell_type": "code",
   "execution_count": null,
   "id": "0e804996-0ff7-4efe-82fc-fab74ab06a34",
   "metadata": {},
   "outputs": [],
   "source": [
    "def posi(num):\n",
    "    if num%2== 0:\n",
    "        return num\n",
    "arr = [5,4,2,7,8]\n",
    "print(arr,len(arr))\n",
    "arr = [x for x in arr if x%2 == 0]\n",
    "print(arr,len(arr))"
   ]
  },
  {
   "cell_type": "code",
   "execution_count": 33,
   "id": "8a83e487-804d-4980-8994-c6eb4c27cff2",
   "metadata": {},
   "outputs": [
    {
     "name": "stdout",
     "output_type": "stream",
     "text": [
      "9\n"
     ]
    }
   ],
   "source": [
    "def cutTheSticks(n):\n",
    "    dp = [0]*(n+1)\n",
    "    m = -10000\n",
    "    for i in range(2, n+1):\n",
    "        for j in range(1,i):\n",
    "            m = max(m, j*(i-j),j*dp[i-j])\n",
    "        dp[i] = m\n",
    "    return dp[n]\n",
    "    \n",
    "print(cutTheSticks(6))"
   ]
  },
  {
   "cell_type": "code",
   "execution_count": null,
   "id": "bb27557b-d371-4dc2-9144-88a095fb1bca",
   "metadata": {},
   "outputs": [],
   "source": []
  },
  {
   "cell_type": "code",
   "execution_count": null,
   "id": "ac9765c7-8dff-4925-a8e7-61fbb01658f6",
   "metadata": {},
   "outputs": [],
   "source": []
  },
  {
   "cell_type": "code",
   "execution_count": null,
   "id": "c8c9cafc-656a-4866-a207-fdbe4761558a",
   "metadata": {},
   "outputs": [],
   "source": []
  },
  {
   "cell_type": "code",
   "execution_count": null,
   "id": "1c4841f9-e57f-45d2-8ab7-7eac739b3136",
   "metadata": {},
   "outputs": [],
   "source": []
  },
  {
   "cell_type": "code",
   "execution_count": null,
   "id": "8b2c19de-b21c-48df-ab91-c78ac1a4a670",
   "metadata": {},
   "outputs": [],
   "source": []
  }
 ],
 "metadata": {
  "kernelspec": {
   "display_name": "Python 3 (ipykernel)",
   "language": "python",
   "name": "python3"
  },
  "language_info": {
   "codemirror_mode": {
    "name": "ipython",
    "version": 3
   },
   "file_extension": ".py",
   "mimetype": "text/x-python",
   "name": "python",
   "nbconvert_exporter": "python",
   "pygments_lexer": "ipython3",
   "version": "3.12.3"
  }
 },
 "nbformat": 4,
 "nbformat_minor": 5
}
