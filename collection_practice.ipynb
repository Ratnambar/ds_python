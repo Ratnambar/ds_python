{
 "cells": [
  {
   "cell_type": "code",
   "execution_count": 8,
   "id": "842661cd-59bf-4dd5-9935-7d5440a3c8cb",
   "metadata": {},
   "outputs": [
    {
     "name": "stdout",
     "output_type": "stream",
     "text": [
      "['hello', 'world', 'hello']\n",
      "{'hello': {'h': 1, 'e': 1, 'l': 2, 'o': 1}, 'world': {'w': 1, 'o': 1, 'r': 1, 'l': 1, 'd': 1}}\n"
     ]
    }
   ],
   "source": [
    "from collections import Counter\n",
    "s = \"hello world hello\"\n",
    "d = dict()\n",
    "print(s.split(\" \"))\n",
    "for x in s.split(' '):\n",
    "    d[x] = dict(Counter(x))\n",
    "print(d)"
   ]
  },
  {
   "cell_type": "code",
   "execution_count": 11,
   "id": "870446a1-75bb-4518-a083-fb8313576238",
   "metadata": {},
   "outputs": [
    {
     "name": "stdout",
     "output_type": "stream",
     "text": [
      "{'a': 1, 'b': 3, 'c': 4}\n"
     ]
    }
   ],
   "source": [
    "d1 = {\"a\": 1, \"b\": 2}\n",
    "d2 = {\"b\": 3, \"c\": 4}\n",
    "d1.update(d2)\n",
    "print(d1)"
   ]
  },
  {
   "cell_type": "code",
   "execution_count": 34,
   "id": "68b98b08-6f05-4448-a4c4-97fa323da5a7",
   "metadata": {},
   "outputs": [
    {
     "name": "stdout",
     "output_type": "stream",
     "text": [
      "2\n"
     ]
    }
   ],
   "source": [
    "s = \"hello world hello\"\n",
    "subs = \"hello\"\n",
    "print(s.count(subs))"
   ]
  },
  {
   "cell_type": "code",
   "execution_count": 36,
   "id": "98318013-2baa-4cdc-add8-721fff107cc0",
   "metadata": {},
   "outputs": [
    {
     "name": "stdout",
     "output_type": "stream",
     "text": [
      "hi world hi\n"
     ]
    }
   ],
   "source": [
    "s = \"hello world hello\"\n",
    "subs = \"hello\"\n",
    "rep_sub = \"hi\"\n",
    "s = s.replace(subs,rep_sub)\n",
    "print(s)"
   ]
  },
  {
   "cell_type": "code",
   "execution_count": 41,
   "id": "5b3fe1b3-509e-432a-a3aa-926b614ad16c",
   "metadata": {},
   "outputs": [
    {
     "name": "stdout",
     "output_type": "stream",
     "text": [
      "0 12 "
     ]
    }
   ],
   "source": [
    "import re\n",
    "s = \"hello world hello\"\n",
    "s1 = \"hello\"\n",
    "for i in range(len(s)):\n",
    "    if s.startswith(s1,i):\n",
    "        print(i,end=\" \")"
   ]
  },
  {
   "cell_type": "code",
   "execution_count": 47,
   "id": "737c7aad-a993-4558-86ac-d8be226ff141",
   "metadata": {},
   "outputs": [
    {
     "name": "stdout",
     "output_type": "stream",
     "text": [
      "hll\n"
     ]
    }
   ],
   "source": [
    "s = \"hello\"\n",
    "v = \"aeiou\"\n",
    "import re\n",
    "p = re.sub(r'[aeiou]','',s)\n",
    "print(p)"
   ]
  },
  {
   "cell_type": "code",
   "execution_count": 49,
   "id": "9f111c33-ae09-4555-a715-69fe516ae1c9",
   "metadata": {},
   "outputs": [
    {
     "name": "stdout",
     "output_type": "stream",
     "text": [
      "dlrow olleh\n"
     ]
    }
   ],
   "source": [
    "s = \"hello world\"\n",
    "print(s[::-1])"
   ]
  },
  {
   "cell_type": "code",
   "execution_count": 54,
   "id": "954f7513-21e9-46b1-ab14-492eaadf1b71",
   "metadata": {},
   "outputs": [
    {
     "name": "stdout",
     "output_type": "stream",
     "text": [
      "ehllo\n"
     ]
    }
   ],
   "source": [
    "s = \"hello\"\n",
    "s = ''.join(sorted(s))\n",
    "print(s)"
   ]
  },
  {
   "cell_type": "code",
   "execution_count": 60,
   "id": "cbe8f593-630f-4617-aa62-d541b944e003",
   "metadata": {},
   "outputs": [
    {
     "name": "stdout",
     "output_type": "stream",
     "text": [
      "[(2, 'a'), (1, 'b'), (3, 'c')]\n"
     ]
    }
   ],
   "source": [
    "l =  [(1, 'b'), (2, 'a'), (3, 'c')]\n",
    "def sort_list(l):\n",
    "    l.sort(key=lambda x: x[1])\n",
    "    return l\n",
    "l1 = sort_list(l)\n",
    "print(l1)"
   ]
  },
  {
   "cell_type": "code",
   "execution_count": 62,
   "id": "3e366ae2-d8e6-47e5-9081-ebac5962a30f",
   "metadata": {},
   "outputs": [
    {
     "name": "stdout",
     "output_type": "stream",
     "text": [
      "[(1, 'a'), (2, 'b'), (3, 'c')]\n"
     ]
    }
   ],
   "source": [
    "l1 =  [1, 2, 3]\n",
    "l2 = ['a', 'b', 'c']\n",
    "l3 = zip(l1,l2)\n",
    "print(list(l3))"
   ]
  },
  {
   "cell_type": "code",
   "execution_count": null,
   "id": "a93f0cbe-34cd-4a8d-a921-b1b2698426db",
   "metadata": {},
   "outputs": [],
   "source": []
  }
 ],
 "metadata": {
  "kernelspec": {
   "display_name": "Python 3 (ipykernel)",
   "language": "python",
   "name": "python3"
  },
  "language_info": {
   "codemirror_mode": {
    "name": "ipython",
    "version": 3
   },
   "file_extension": ".py",
   "mimetype": "text/x-python",
   "name": "python",
   "nbconvert_exporter": "python",
   "pygments_lexer": "ipython3",
   "version": "3.12.3"
  }
 },
 "nbformat": 4,
 "nbformat_minor": 5
}
