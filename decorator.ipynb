{
 "cells": [
  {
   "cell_type": "code",
   "execution_count": 7,
   "id": "0b5e3fe3-111a-4f8b-9194-2d3535ef2d13",
   "metadata": {},
   "outputs": [
    {
     "data": {
      "text/plain": [
       "5"
      ]
     },
     "execution_count": 7,
     "metadata": {},
     "output_type": "execute_result"
    }
   ],
   "source": [
    "# add two numbers\n",
    "def outer(func):\n",
    "    def inner(a,b):\n",
    "        if b == 0:\n",
    "            print(\"can't divide by zero.\")\n",
    "            return\n",
    "        return func(a,b)\n",
    "    return inner\n",
    "@outer\n",
    "def add_div(x,y):\n",
    "    return x//y\n",
    "\n",
    "add_div(10,2)"
   ]
  },
  {
   "cell_type": "code",
   "execution_count": 8,
   "id": "7d2c8dac-4794-4d50-862d-8535441fb949",
   "metadata": {},
   "outputs": [
    {
     "name": "stdout",
     "output_type": "stream",
     "text": [
      "1\n"
     ]
    }
   ],
   "source": [
    "l = [1,2,3,4]\n",
    "l1 = iter(l)\n",
    "print(next(l1))\n",
    "print(l.)"
   ]
  },
  {
   "cell_type": "code",
   "execution_count": 11,
   "id": "5a4496b1-ff92-4d55-83fe-aad38b6e5fad",
   "metadata": {},
   "outputs": [
    {
     "data": {
      "text/plain": [
       "[1, 2, 3, 4, None, None, None]"
      ]
     },
     "execution_count": 11,
     "metadata": {},
     "output_type": "execute_result"
    }
   ],
   "source": [
    "#map function\n",
    "def func(x):\n",
    "    if x > 0:\n",
    "        return x\n",
    "l = [1,2,3,4,-3,-4,-1]\n",
    "res = list(map(func, l))\n",
    "res"
   ]
  },
  {
   "cell_type": "code",
   "execution_count": 17,
   "id": "0b9c2005-e3db-4b14-99c5-f51a7357f7f2",
   "metadata": {},
   "outputs": [
    {
     "name": "stdout",
     "output_type": "stream",
     "text": [
      "32\n"
     ]
    }
   ],
   "source": [
    "res = lambda x,y,z: x+y+z\n",
    "print(res(2,10,20))"
   ]
  },
  {
   "cell_type": "code",
   "execution_count": 18,
   "id": "cf28f627-ec62-47c1-a375-97614c9491b2",
   "metadata": {},
   "outputs": [
    {
     "data": {
      "text/plain": [
       "<generator object gen at 0x7c3eac13e440>"
      ]
     },
     "execution_count": 18,
     "metadata": {},
     "output_type": "execute_result"
    }
   ],
   "source": [
    "##generator\n",
    "def gen(n):\n",
    "    print(n)\n",
    "    n+=1\n",
    "    yield n\n",
    "\n",
    "    print(n)\n",
    "    n+=1\n",
    "gen(10)"
   ]
  },
  {
   "cell_type": "code",
   "execution_count": 6,
   "id": "3fbbe29a-eceb-4bf5-8507-0c1cb2dbdf23",
   "metadata": {},
   "outputs": [
    {
     "name": "stdout",
     "output_type": "stream",
     "text": [
      "Hii john\n"
     ]
    }
   ],
   "source": [
    "# closures\n",
    "def test():\n",
    "    name = \"john\"\n",
    "    return lambda: \"Hii \"+name\n",
    "t = test()\n",
    "print(t())"
   ]
  },
  {
   "cell_type": "code",
   "execution_count": 13,
   "id": "520c646f-98de-4304-9aaa-e39c0f705fcc",
   "metadata": {},
   "outputs": [
    {
     "name": "stdout",
     "output_type": "stream",
     "text": [
      "3\n",
      "28.274333882308138\n"
     ]
    }
   ],
   "source": [
    "class Circle:\n",
    "    def __init__(self,radius):\n",
    "        self._radius = radius\n",
    "\n",
    "    @property\n",
    "    def radius(self):\n",
    "        return self._radius\n",
    "\n",
    "    @radius.setter\n",
    "    def set_radius(self, value):\n",
    "        if self._radius < 0:\n",
    "            raise ValueError(\"Radius can't be negative value.\")\n",
    "        self._radius = value\n",
    "\n",
    "    @property\n",
    "    def area(self):\n",
    "        import math\n",
    "        return math.pi*(self._radius**2)\n",
    "circle = Circle(3)\n",
    "print(circle.radius)\n",
    "print(circle.area)"
   ]
  },
  {
   "cell_type": "code",
   "execution_count": 14,
   "id": "0d6880bc-0fa5-4d9c-8f5f-3cc158c656b4",
   "metadata": {},
   "outputs": [
    {
     "name": "stdout",
     "output_type": "stream",
     "text": [
      "Positional arguments: (1, 2, 3)\n",
      "Keyword arguments: {'a': 4, 'b': 5}\n"
     ]
    }
   ],
   "source": [
    "def print_args_kwargs(*args, **kwargs):\n",
    "    print(f\"Positional arguments: {args}\")\n",
    "    print(f\"Keyword arguments: {kwargs}\")\n",
    "\n",
    "print_args_kwargs(1, 2, 3, a=4, b=5)  # Output: Positional arguments: (1, 2, 3) Keyword arguments: {'a': 4, 'b': 5}\n"
   ]
  },
  {
   "cell_type": "code",
   "execution_count": 16,
   "id": "72d01da4-e64e-4206-98ab-1a0adfc5ebd7",
   "metadata": {},
   "outputs": [
    {
     "name": "stdout",
     "output_type": "stream",
     "text": [
      "{'a': 1, 'b': 2, 'c': 3, 'd': 4}\n"
     ]
    }
   ],
   "source": [
    "def merge_dicts(d1, **d2):\n",
    "    return {**d1,**d2}\n",
    "\n",
    "print(merge_dicts({'a': 1, 'b': 2}, c=3, d=4)) "
   ]
  },
  {
   "cell_type": "code",
   "execution_count": 18,
   "id": "8cfd6f66-e533-426d-bea4-f6f8bfa3dfc1",
   "metadata": {},
   "outputs": [
    {
     "name": "stdout",
     "output_type": "stream",
     "text": [
      "<class 'dict'>\n"
     ]
    },
    {
     "ename": "TypeError",
     "evalue": "type() takes 1 or 3 arguments",
     "output_type": "error",
     "traceback": [
      "\u001b[0;31m---------------------------------------------------------------------------\u001b[0m",
      "\u001b[0;31mTypeError\u001b[0m                                 Traceback (most recent call last)",
      "Cell \u001b[0;32mIn[18], line 3\u001b[0m\n\u001b[1;32m      1\u001b[0m d1 \u001b[38;5;241m=\u001b[39m {\u001b[38;5;124m'\u001b[39m\u001b[38;5;124ma\u001b[39m\u001b[38;5;124m'\u001b[39m: \u001b[38;5;241m1\u001b[39m, \u001b[38;5;124m'\u001b[39m\u001b[38;5;124mb\u001b[39m\u001b[38;5;124m'\u001b[39m: \u001b[38;5;241m2\u001b[39m}\n\u001b[1;32m      2\u001b[0m \u001b[38;5;28mprint\u001b[39m(\u001b[38;5;28mtype\u001b[39m(d1))\n\u001b[0;32m----> 3\u001b[0m \u001b[38;5;28mprint\u001b[39m(\u001b[38;5;28;43mtype\u001b[39;49m\u001b[43m(\u001b[49m\u001b[38;5;241;43m*\u001b[39;49m\u001b[38;5;241;43m*\u001b[39;49m\u001b[43md1\u001b[49m\u001b[43m)\u001b[49m)\n",
      "\u001b[0;31mTypeError\u001b[0m: type() takes 1 or 3 arguments"
     ]
    }
   ],
   "source": [
    "d1 = {'a': 1, 'b': 2}\n",
    "print(type(d1))\n",
    "print(type(**d1))"
   ]
  },
  {
   "cell_type": "code",
   "execution_count": 1,
   "id": "96934a8f-8140-4ae1-b4d3-be18af760d55",
   "metadata": {},
   "outputs": [
    {
     "name": "stdout",
     "output_type": "stream",
     "text": [
      "<re.Match object; span=(2, 4), match='99'>\n"
     ]
    }
   ],
   "source": [
    "import re\n",
    "print(re.search(r\"9+\",\"289908\"))"
   ]
  },
  {
   "cell_type": "code",
   "execution_count": null,
   "id": "b2a2d03a-f3ea-4185-a5dd-61ecccaac1b8",
   "metadata": {},
   "outputs": [],
   "source": []
  }
 ],
 "metadata": {
  "kernelspec": {
   "display_name": "Python 3 (ipykernel)",
   "language": "python",
   "name": "python3"
  },
  "language_info": {
   "codemirror_mode": {
    "name": "ipython",
    "version": 3
   },
   "file_extension": ".py",
   "mimetype": "text/x-python",
   "name": "python",
   "nbconvert_exporter": "python",
   "pygments_lexer": "ipython3",
   "version": "3.12.3"
  }
 },
 "nbformat": 4,
 "nbformat_minor": 5
}
