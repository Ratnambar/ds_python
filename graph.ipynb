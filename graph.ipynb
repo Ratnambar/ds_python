{
 "cells": [
  {
   "cell_type": "code",
   "execution_count": 4,
   "id": "346e690f-e6e8-476a-934a-76a7ffc5c38e",
   "metadata": {},
   "outputs": [
    {
     "name": "stdin",
     "output_type": "stream",
     "text": [
      "Enter the number of vertices:  4\n"
     ]
    },
    {
     "name": "stdout",
     "output_type": "stream",
     "text": [
      "Enter the vertices:\n"
     ]
    },
    {
     "name": "stdin",
     "output_type": "stream",
     "text": [
      " a\n",
      " b\n",
      " c\n",
      " d\n",
      "Enter the number of edges:  3\n"
     ]
    },
    {
     "name": "stdout",
     "output_type": "stream",
     "text": [
      "Enter the edges in the format 'vertex1 vertex2':\n"
     ]
    },
    {
     "name": "stdin",
     "output_type": "stream",
     "text": [
      " a b\n",
      " b c\n",
      " c d\n"
     ]
    },
    {
     "name": "stdout",
     "output_type": "stream",
     "text": [
      "\n",
      "Graph representation (Adjacency List):\n",
      "a: b\n",
      "b: a, c\n",
      "c: b, d\n",
      "d: c\n"
     ]
    }
   ],
   "source": [
    "class Graph:\n",
    "    def __init__(self):\n",
    "        self.adjacency_list = {}\n",
    "\n",
    "    def add_vertex(self, vertex):\n",
    "        if vertex not in self.adjacency_list:\n",
    "            self.adjacency_list[vertex] = []\n",
    "\n",
    "    def add_edge(self, vertex1, vertex2):\n",
    "        if vertex1 in self.adjacency_list and vertex2 in self.adjacency_list:\n",
    "            self.adjacency_list[vertex1].append(vertex2)\n",
    "            self.adjacency_list[vertex2].append(vertex1)\n",
    "        else:\n",
    "            print(\"One or both vertices not found in graph.\")\n",
    "\n",
    "    def display(self):\n",
    "        for vertex, edges in self.adjacency_list.items():\n",
    "            print(f\"{vertex}: {', '.join(map(str, edges))}\")\n",
    "\n",
    "def main():\n",
    "    graph = Graph()\n",
    "\n",
    "    num_vertices = int(input(\"Enter the number of vertices: \"))\n",
    "    print(\"Enter the vertices:\")\n",
    "    for _ in range(num_vertices):\n",
    "        vertex = input()\n",
    "        graph.add_vertex(vertex)\n",
    "\n",
    "    num_edges = int(input(\"Enter the number of edges: \"))\n",
    "    print(\"Enter the edges in the format 'vertex1 vertex2':\")\n",
    "    for _ in range(num_edges):\n",
    "        vertex1, vertex2 = input().split()\n",
    "        graph.add_edge(vertex1, vertex2)\n",
    "\n",
    "    print(\"\\nGraph representation (Adjacency List):\")\n",
    "    graph.display()\n",
    "    \n",
    "\n",
    "if __name__ == \"__main__\":\n",
    "    main()\n"
   ]
  },
  {
   "cell_type": "code",
   "execution_count": 16,
   "id": "5edd13d7-9766-450a-8139-3e28f598e930",
   "metadata": {},
   "outputs": [
    {
     "name": "stdin",
     "output_type": "stream",
     "text": [
      "enter number of vertices 4\n",
      " 0\n",
      " 1\n",
      " 2\n",
      " 3\n",
      "number of edges 5\n",
      " 0 1\n",
      " 0 2\n",
      " 1 2\n",
      " 1 3\n",
      " 2 3\n"
     ]
    },
    {
     "name": "stdout",
     "output_type": "stream",
     "text": [
      "0: 1, 2\n",
      "1: 0, 2, 3\n",
      "2: 0, 1, 3\n",
      "3: 1, 2\n"
     ]
    },
    {
     "name": "stdin",
     "output_type": "stream",
     "text": [
      "Enter the source vertex for BFS:  0\n"
     ]
    },
    {
     "name": "stdout",
     "output_type": "stream",
     "text": [
      "{'0': 0, '1': 1, '2': 1, '3': 2}\n"
     ]
    }
   ],
   "source": [
    "class Graph:\n",
    "    def __init__(self):\n",
    "        self.ad_list = {}\n",
    "\n",
    "    def add_vertex(self, vertex):\n",
    "        if vertex not in self.ad_list:\n",
    "            self.ad_list[vertex] = []\n",
    "\n",
    "    def add_edges(self, v1, v2):\n",
    "        if v1 in self.ad_list and v2 in self.ad_list:\n",
    "            self.ad_list[v1].append(v2)\n",
    "            self.ad_list[v2].append(v1)\n",
    "        else:\n",
    "            print(\"both vertex not in graph\")\n",
    "\n",
    "    \n",
    "    def bfs(self, source):\n",
    "        visited = {}\n",
    "        queue = []\n",
    "        queue.append(source)\n",
    "        visited[source] = True\n",
    "        while len(queue) > 0:\n",
    "            curr = queue.pop(0)\n",
    "            print(curr)\n",
    "            for neighbor in self.ad_list[curr]:\n",
    "                if neighbor not in visited:\n",
    "                    queue.append(neighbor)\n",
    "                    visited[neighbor] = True\n",
    "\n",
    "    \n",
    "    def dfs(self, source):\n",
    "        if source not in self.ad_list:\n",
    "            print(f\"Vertex {source} not found in the graph\")\n",
    "            return\n",
    "        visited = {vertex: False for vertex in self.ad_list}\n",
    "        stack = []\n",
    "        stack.append(source)\n",
    "        while stack:\n",
    "            curr = stack.pop()\n",
    "            if not visited[curr]:\n",
    "                print(curr,end=\" \")\n",
    "                visited[curr] = True\n",
    "                # Add all unvisited neighbors to the stack in reversed order\n",
    "                for neighbor in reversed(self.ad_list[curr]):\n",
    "                    if not visited[neighbor]:\n",
    "                        stack.append(neighbor)\n",
    "\n",
    "\n",
    "    def shortest_path_in_unweighted_graph(self, source):\n",
    "        if source not in self.ad_list:\n",
    "            print(f\"Vertex {source} not found in the graph\")\n",
    "            return\n",
    "\n",
    "        dist = {vertex: float('inf') for vertex in self.ad_list}\n",
    "        visited = {vertex: False for vertex in self.ad_list}\n",
    "        queue = []\n",
    "\n",
    "        queue.append(source)\n",
    "        dist[source] = 0\n",
    "        visited[source] = True\n",
    "\n",
    "        while queue:\n",
    "            curr = queue.pop(0)\n",
    "            for neighbor in self.ad_list[curr]:\n",
    "                if not visited[neighbor]:\n",
    "                    visited[neighbor] = True\n",
    "                    dist[neighbor] = dist[curr] + 1\n",
    "                    queue.append(neighbor)\n",
    "        print(dist)\n",
    "\n",
    "    def detect_cycle(self, source):\n",
    "        visited = {vertex:False for vertex in self.ad_list}\n",
    "        parent = {vertex:None for vertex in self.ad_list}\n",
    "\n",
    "        def dfs_cycle(self, source):\n",
    "            queue = []\n",
    "            queue.append((source, None))\n",
    "            while queue:\n",
    "                vertex, parent_node = queue.pop()\n",
    "                if not visited[vertex]:\n",
    "                    visited[vertex] = True\n",
    "                    parent[vertex] = parent_node\n",
    "                for neighbor in self.ad_list[vertex]:\n",
    "                    if not visited[neighbor]:\n",
    "                        queue.append((neighbor, vertex))\n",
    "                    elif neighbor != parent[vertex]:\n",
    "                        return True\n",
    "            return False\n",
    "        \n",
    "        for vertex in self.ad_list:\n",
    "            if not visited[vertex]:\n",
    "                if dfs_cycle(vertex):\n",
    "                    return True\n",
    "        return False\n",
    "    \n",
    "    def display(self):\n",
    "        for vertex, edges in self.ad_list.items():\n",
    "            print(f\"{vertex}: {', '.join(edges)}\")\n",
    "\n",
    "\n",
    "graph = Graph()\n",
    "num_vertices = int(input(\"enter number of vertices\"))\n",
    "for _ in range(num_vertices):\n",
    "    vertex = input()\n",
    "    graph.add_vertex(vertex)\n",
    "num_edges = int(input(\"number of edges\"))\n",
    "for _ in range(num_edges):\n",
    "    v1,v2 = input().split()\n",
    "    graph.add_edges(v1,v2)\n",
    "graph.display()\n",
    "source_vertex = input(\"Enter the source vertex for BFS: \")\n",
    "# graph.bfs(source_vertex)\n",
    "# graph.dfs(source_vertex)\n",
    "graph.shortest_path_in_unweighted_graph(source_vertex)"
   ]
  },
  {
   "cell_type": "code",
   "execution_count": null,
   "id": "18ebab92-9e0c-44cf-879d-1c9c0b8758cd",
   "metadata": {},
   "outputs": [],
   "source": []
  },
  {
   "cell_type": "code",
   "execution_count": null,
   "id": "38cccd4c-54a6-4565-9894-46ade2d5d216",
   "metadata": {},
   "outputs": [],
   "source": []
  }
 ],
 "metadata": {
  "kernelspec": {
   "display_name": "Python 3 (ipykernel)",
   "language": "python",
   "name": "python3"
  },
  "language_info": {
   "codemirror_mode": {
    "name": "ipython",
    "version": 3
   },
   "file_extension": ".py",
   "mimetype": "text/x-python",
   "name": "python",
   "nbconvert_exporter": "python",
   "pygments_lexer": "ipython3",
   "version": "3.12.3"
  }
 },
 "nbformat": 4,
 "nbformat_minor": 5
}
