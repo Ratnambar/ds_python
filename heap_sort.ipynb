{
 "cells": [
  {
   "cell_type": "code",
   "execution_count": 3,
   "id": "2d814357-92cc-4311-9106-5f210c149aa1",
   "metadata": {},
   "outputs": [
    {
     "name": "stdout",
     "output_type": "stream",
     "text": [
      "[1, 2, 3, 4, 5, 10]\n"
     ]
    }
   ],
   "source": [
    "def heapify(arr, n, i):\n",
    "    largest = i\n",
    "    left = 2*i+1\n",
    "    right = 2*i+2\n",
    "    if left < n and arr[largest] < arr[left]:\n",
    "        largest = left\n",
    "    if right < n and arr[largest] < arr[right]:\n",
    "        largest = right\n",
    "    if largest != i:\n",
    "        arr[largest] ,arr[i] = arr[i], arr[largest]\n",
    "        heapify(arr, n, largest)\n",
    "\n",
    "def heapSort(arr, n):\n",
    "    for i in range(n//2, -1, -1):\n",
    "        heapify(arr, n, i)\n",
    "    for i in range(n, 0, -1):\n",
    "        arr[0], arr[i] = arr[i], arr[0]\n",
    "        heapify(arr, i, 0)\n",
    "\n",
    "arr = [1, 2, 3, 10, 4, 5]\n",
    "heapSort(arr, len(arr)-1)\n",
    "print(arr)"
   ]
  },
  {
   "cell_type": "code",
   "execution_count": 5,
   "id": "f26b58a1-c074-43d5-8b1f-2efea752ec69",
   "metadata": {},
   "outputs": [
    {
     "name": "stdout",
     "output_type": "stream",
     "text": [
      "['a', 'b', 'c', 'd', 'e']\n"
     ]
    }
   ],
   "source": [
    "''' Implement heap sort to sort an array of integers containing duplicates.'''\n",
    "def heapify(arr, n, i):\n",
    "    largest = i\n",
    "    left = 2*i+1\n",
    "    right = 2*i+2\n",
    "    if left < n and arr[largest] < arr[left]:\n",
    "        largest = left\n",
    "    if right < n and arr[largest] < arr[right]:\n",
    "        largest = right\n",
    "    if largest != i:\n",
    "        arr[largest], arr[i] = arr[i], arr[largest]\n",
    "        heapify(arr, n, largest)\n",
    "\n",
    "def heapSort(arr, n):\n",
    "    for i in range(n//2, -1, -1):\n",
    "        heapify(arr, n, i)\n",
    "    for i in range(n, 0 ,-1):\n",
    "        arr[0], arr[i] = arr[i], arr[0]\n",
    "        heapify(arr, i ,0)\n",
    "\n",
    "# arr = [4, 10, 4, 5, 1, 1, 3]\n",
    "# arr = [4.1, 10.3, 3.3, 5.5, 1.2]\n",
    "# arr = [4.5, 2, 3.1, 1, 5.0]\n",
    "# arr = [-3, -1, -2, -4, -5]\n",
    "arr = ['d', 'b', 'a', 'c', 'e']\n",
    "heapSort(arr, len(arr)-1)\n",
    "print(arr)"
   ]
  },
  {
   "cell_type": "code",
   "execution_count": 12,
   "id": "a239126a-009b-45c3-a4ec-57290b864db4",
   "metadata": {},
   "outputs": [
    {
     "name": "stdout",
     "output_type": "stream",
     "text": [
      "[-5, -4, -3, -2, -1]\n"
     ]
    }
   ],
   "source": [
    "# Implement heap sort to sort an array of characters.\n",
    "def heapify(arr, n, i):\n",
    "    largest = i\n",
    "    left = 2*i+1\n",
    "    right = 2*i+2\n",
    "    if left < n and arr[largest] < arr[left]:\n",
    "        largest = left\n",
    "    if right < n and arr[largest] < arr[right]:\n",
    "        largest = right\n",
    "    if largest != i:\n",
    "        arr[largest], arr[i] = arr[i], arr[largest]\n",
    "        heapify(arr, n, largest)\n",
    "\n",
    "def heapSort(arr, n):\n",
    "    for i in range(n//2, -1, -1):\n",
    "        heapify(arr, n, i)\n",
    "    for i in range(n, 0 ,-1):\n",
    "        arr[0], arr[i] = arr[i], arr[0]\n",
    "        heapify(arr, i ,0)\n",
    "arr = ['d', 'b', 'a', 'c', 'e']\n",
    "heapSort(arr, len(arr)-1)\n",
    "print(arr)"
   ]
  },
  {
   "cell_type": "code",
   "execution_count": 2,
   "id": "f721a4ab-0469-43f2-8ce6-b1fc644043f9",
   "metadata": {},
   "outputs": [
    {
     "name": "stdout",
     "output_type": "stream",
     "text": [
      "8\n",
      "7\n",
      "5\n"
     ]
    }
   ],
   "source": [
    "'''Implement a variation of heap sort to find the top K largest elements in an array.'''\n",
    "def heapify(arr, n, i):\n",
    "    largest = i\n",
    "    left = 2*i+1\n",
    "    right = 2*i+2\n",
    "    count = 0\n",
    "    if(left < n and arr[largest] < arr[left]):\n",
    "        largest = left\n",
    "    if(right < n and arr[largest] < arr[right]):\n",
    "        largest = right\n",
    "    if(largest != i):\n",
    "        arr[i], arr[largest] = arr[largest], arr[i]\n",
    "        heapify(arr, n, largest)\n",
    "\n",
    "def heapSort(arr, n, K):\n",
    "    count = 0\n",
    "    for i in range(n//2, -1, -1):\n",
    "        heapify(arr, n, i)\n",
    "    for i in range(n, 0, -1):\n",
    "        count+=1\n",
    "        if count <= K:\n",
    "            print(arr[0])\n",
    "        arr[0], arr[i] = arr[i], arr[0]\n",
    "        heapify(arr, i, 0)\n",
    "\n",
    "arr = [4, 1, 7, 3, 8, 5]\n",
    "K = 3\n",
    "heapSort(arr, len(arr)-1, K)\n",
    "# print(arr)"
   ]
  },
  {
   "cell_type": "code",
   "execution_count": 43,
   "id": "1cb68e5e-0707-4cd1-bb4e-a5993d1d750b",
   "metadata": {},
   "outputs": [
    {
     "name": "stdout",
     "output_type": "stream",
     "text": [
      "[{'id': 2, 'age': 20}, {'id': 1, 'age': 25}, {'id': 3, 'age': 30}]\n"
     ]
    }
   ],
   "source": [
    "''' Implement heap sort to sort an array of custom objects based on a specified attribute.'''\n",
    "def heapify(arr, n ,i, key):\n",
    "    largest = i\n",
    "    left = 2*i+1\n",
    "    right = 2*i+2\n",
    "    if left < n and arr[largest][key] < arr[left][key]:\n",
    "        largest = left\n",
    "    if right < n and arr[largest][key] < arr[right][key]:\n",
    "        largest = right\n",
    "    if largest != i:\n",
    "        arr[largest], arr[i] = arr[i], arr[largest]\n",
    "        heapify(arr, n, largest, key)\n",
    "\n",
    "def heapSort(arr, n, key):\n",
    "    for i in range(n//2-1, -1, -1):\n",
    "        heapify(arr, n ,i, key)\n",
    "    for i in range(n-1, 0, -1):\n",
    "        arr[0], arr[i] = arr[i], arr[0]\n",
    "        heapify(arr, i, 0, key)\n",
    "\n",
    "arr = [{\"id\": 1, \"age\": 25}, {\"id\": 2, \"age\": 20}, {\"id\": 3, \"age\": 30}]\n",
    "key = \"age\"\n",
    "heapSort(arr, len(arr)-1, key)\n",
    "print(arr)"
   ]
  },
  {
   "cell_type": "code",
   "execution_count": 50,
   "id": "dbb6e8cf-3247-4cfc-9698-0b6aa3b97e0a",
   "metadata": {},
   "outputs": [
    {
     "name": "stdout",
     "output_type": "stream",
     "text": [
      "[(1, 4), (3, 8), (5, 2)]\n"
     ]
    }
   ],
   "source": [
    "'''Implement heap sort to sort an array of intervals based on their start times.'''\n",
    "def heapify(arr, n, i):\n",
    "    largest = i\n",
    "    left = 2*i+1\n",
    "    right = 2*i+2\n",
    "    if left < n and arr[largest][0] < arr[left][0]:\n",
    "        largest = left\n",
    "    if right < n and arr[largest][0] < arr[right][0]:\n",
    "        largest = right\n",
    "    if largest != i:\n",
    "        arr[largest], arr[i] = arr[i], arr[largest]\n",
    "        heapify(arr, n, largest)\n",
    "\n",
    "def heapSort(arr, n):\n",
    "    for i in range(n//2, -1, -1):\n",
    "        heapify(arr, n, i)\n",
    "    for i in range(n, 0, -1):\n",
    "        arr[0],arr[i] = arr[i], arr[0]\n",
    "        heapify(arr, n, i)\n",
    "\n",
    "arr = [(5, 2), (1, 4), (3, 8)]\n",
    "heapSort(arr, len(arr)-1)\n",
    "print(arr)"
   ]
  },
  {
   "cell_type": "code",
   "execution_count": 55,
   "id": "6eb8d66c-9aec-40c0-a043-eb7353972748",
   "metadata": {},
   "outputs": [
    {
     "name": "stdout",
     "output_type": "stream",
     "text": [
      "Sorted array: ['2024-04-15', '2024-05-18', '2024-05-01']\n"
     ]
    }
   ],
   "source": [
    "'''Implement heap sort to sort an array of dates.'''\n",
    "from datetime import datetime\n",
    "\n",
    "def heapify(arr, n, i):\n",
    "    largest = i\n",
    "    left = 2*i+1\n",
    "    right = 2*i+2\n",
    "    if left < n and datetime.strptime(arr[largest], '%Y-%m-%d') < datetime.strptime(arr[left], '%Y-%m-%d'):\n",
    "        largest = left\n",
    "    if right < n and datetime.strptime(arr[largest], '%Y-%m-%d') < datetime.strptime(arr[right], '%Y-%m-%d'):\n",
    "        largest = right\n",
    "    if largest != i:\n",
    "        arr[largest], arr[i] = arr[i], arr[largest]\n",
    "        heapify(arr, n, largest)\n",
    "\n",
    "def heapSort(arr, n):\n",
    "    for i in range(n//2, -1, -1):\n",
    "        heapify(arr, n, i)\n",
    "    for i in range(n, 0, -1):\n",
    "        arr[0],arr[i] = arr[i], arr[0]\n",
    "        heapify(arr, n, i)\n",
    "\n",
    "\n",
    "arr = [\"2024-05-01\", \"2024-04-15\", \"2024-05-18\"]\n",
    "heapSort(arr, len(arr)-1)\n",
    "print(\"Sorted array:\", arr)\n"
   ]
  },
  {
   "cell_type": "code",
   "execution_count": null,
   "id": "9ece414c-ac6e-4f10-8c07-20bd205072f7",
   "metadata": {},
   "outputs": [],
   "source": []
  }
 ],
 "metadata": {
  "kernelspec": {
   "display_name": "Python 3 (ipykernel)",
   "language": "python",
   "name": "python3"
  },
  "language_info": {
   "codemirror_mode": {
    "name": "ipython",
    "version": 3
   },
   "file_extension": ".py",
   "mimetype": "text/x-python",
   "name": "python",
   "nbconvert_exporter": "python",
   "pygments_lexer": "ipython3",
   "version": "3.12.3"
  }
 },
 "nbformat": 4,
 "nbformat_minor": 5
}
