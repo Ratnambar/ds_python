{
 "cells": [
  {
   "cell_type": "code",
   "execution_count": 23,
   "id": "9c20cd7b-2333-459a-bd3a-da5edac120b0",
   "metadata": {},
   "outputs": [
    {
     "name": "stdout",
     "output_type": "stream",
     "text": [
      "[2, 4, 5, 6]\n"
     ]
    },
    {
     "data": {
      "text/plain": [
       "17"
      ]
     },
     "execution_count": 23,
     "metadata": {},
     "output_type": "execute_result"
    }
   ],
   "source": [
    "'''Find the maximum sum of a subarray containing all distinct elements.'''\n",
    "def maxSum(arr):\n",
    "    p_sum = arr[0]\n",
    "    res = 0\n",
    "    low = 0\n",
    "    high = low+1\n",
    "    s = set()\n",
    "    s.add(arr[low])\n",
    "    while low < high and high < len(arr):\n",
    "        if arr[high] in s:\n",
    "            s.remove(arr[high])\n",
    "            p_sum-=arr[low]\n",
    "            low+=1\n",
    "        # else:\n",
    "        s.add(arr[high])\n",
    "        p_sum+=arr[high]\n",
    "        high+=1\n",
    "        res = max(res, p_sum)\n",
    "    print(arr[low:high])\n",
    "    return res\n",
    "\n",
    "arr = [4, 2, 4, 5, 6]\n",
    "# arr = [2,1,2,3,4,5,6]\n",
    "maxSum(arr)"
   ]
  },
  {
   "cell_type": "code",
   "execution_count": 26,
   "id": "b42db78f-9808-4be1-a2c5-cc881d5ba80b",
   "metadata": {},
   "outputs": [
    {
     "data": {
      "text/plain": [
       "[0, 5]"
      ]
     },
     "execution_count": 26,
     "metadata": {},
     "output_type": "execute_result"
    }
   ],
   "source": [
    "''' Find the maximum sum of a subarray with a given sum constraint k.'''\n",
    "def maxSum(arr, k):\n",
    "    low = 0\n",
    "    high = low+1\n",
    "    p_sum = arr[0]\n",
    "    res = 0\n",
    "    while low < high and high < len(arr):\n",
    "        if p_sum < k:\n",
    "            p_sum+=arr[high]\n",
    "            res = max(res, p_sum)\n",
    "            high+=1\n",
    "        elif p_sum > k:\n",
    "            p_sum-=arr[low]\n",
    "            low+=1\n",
    "        else:\n",
    "            return [low,high-1]\n",
    "    return [-1]\n",
    "            \n",
    "            \n",
    "\n",
    "arr = [2, 1, -3, 4, -1, 2, 1, -5, 4]\n",
    "k = 5\n",
    "maxSum(arr, k)"
   ]
  },
  {
   "cell_type": "code",
   "execution_count": 34,
   "id": "8f81a5cb-0fce-432b-a3d6-4b94db24159e",
   "metadata": {},
   "outputs": [
    {
     "data": {
      "text/plain": [
       "12"
      ]
     },
     "execution_count": 34,
     "metadata": {},
     "output_type": "execute_result"
    }
   ],
   "source": [
    "''' Find the maximum sum of a subarray where no two elements are adjacent.'''\n",
    "def maxSum(arr):\n",
    "    low = 0\n",
    "    high = 0\n",
    "    n = len(arr)\n",
    "    p_sum = 0\n",
    "    prev1 = arr[0]\n",
    "    prev2 = 0\n",
    "    for i in range(1,n):\n",
    "        p_sum = max(prev1, prev2+arr[i])\n",
    "        prev2 = prev1\n",
    "        prev1 = p_sum\n",
    "    return prev1\n",
    "    \n",
    "# arr = [3, 2, 7, 10]\n",
    "arr = [2, 1, -3, 4, -1, 2, 1, -5, 4]\n",
    "maxSum(arr)"
   ]
  },
  {
   "cell_type": "code",
   "execution_count": 36,
   "id": "5db08eeb-9686-41bc-9692-f6b0cb2f1b1e",
   "metadata": {},
   "outputs": [
    {
     "data": {
      "text/plain": [
       "6"
      ]
     },
     "execution_count": 36,
     "metadata": {},
     "output_type": "execute_result"
    }
   ],
   "source": [
    "'''Given an array and an integer M, find the maximum sum of a subarray modulo M.'''\n",
    "def maxSum(arr, M):\n",
    "    n = len(arr)\n",
    "    low = 0\n",
    "    high = 0\n",
    "    p_sum = 0\n",
    "    res = 0\n",
    "    while low <= high and high < n:\n",
    "        p_sum+=arr[high]\n",
    "        res = max(res, p_sum%M)\n",
    "        high+=1\n",
    "    return res\n",
    "        \n",
    "# arr = [3, 3, 9, 9, 5]\n",
    "arr = [3, 3, 9, 9, 5]\n",
    "M = 7\n",
    "maxSum(arr, M)"
   ]
  },
  {
   "cell_type": "code",
   "execution_count": 45,
   "id": "06138104-7df6-4a81-bbc3-77952f634ebe",
   "metadata": {},
   "outputs": [
    {
     "data": {
      "text/plain": [
       "True"
      ]
     },
     "execution_count": 45,
     "metadata": {},
     "output_type": "execute_result"
    }
   ],
   "source": [
    "def find_pair(arr, s):\n",
    "    se = set()\n",
    "    for i in range(len(arr)):\n",
    "        if s-arr[i] in se:\n",
    "            return True\n",
    "        else:\n",
    "            se.add(arr[i])\n",
    "    return False\n",
    "\n",
    "# arr = [3,2,8,15,-8]\n",
    "# arr = [8,3,4,2,5]\n",
    "# arr = [2,1,6,3]\n",
    "arr = [5,8,-3,6]\n",
    "s = 3\n",
    "# s = 6\n",
    "# s = 19\n",
    "find_pair(arr,s)"
   ]
  },
  {
   "cell_type": "code",
   "execution_count": 48,
   "id": "324cf591-f75b-4044-bf77-9123c75ca854",
   "metadata": {},
   "outputs": [
    {
     "name": "stdout",
     "output_type": "stream",
     "text": [
      "0\n",
      "0\n",
      "0\n",
      "2\n",
      "2\n",
      "2\n",
      "5\n"
     ]
    },
    {
     "data": {
      "text/plain": [
       "5"
      ]
     },
     "execution_count": 48,
     "metadata": {},
     "output_type": "execute_result"
    }
   ],
   "source": [
    "# longest consecutive subsequence\n",
    "def long_subseq(arr, s):\n",
    "    d = dict()\n",
    "    p_sum = 0\n",
    "    res = 0\n",
    "    for i in range(len(arr)):\n",
    "        p_sum+=arr[i]\n",
    "        if p_sum not in d.keys():\n",
    "            d[p_sum] = i\n",
    "        if p_sum in d.keys():\n",
    "            res = max(res,i-d[p_sum])\n",
    "            print(res)\n",
    "    return res\n",
    "            \n",
    "arr = [5,9,-2,2,8,-4,-4]\n",
    "s = 0\n",
    "long_subseq(arr, s)"
   ]
  },
  {
   "cell_type": "code",
   "execution_count": 55,
   "id": "426dcc25-37d2-44af-8864-5b40da115078",
   "metadata": {},
   "outputs": [
    {
     "name": "stdout",
     "output_type": "stream",
     "text": [
      "6\n"
     ]
    }
   ],
   "source": [
    "# longest subarray with equal number of zeros and ones\n",
    "def maxSum(arr):\n",
    "    p_sum = 0\n",
    "    res = 0\n",
    "    d = {0:-1}\n",
    "    for i in range(len(arr)):\n",
    "        p_sum+=arr[i]\n",
    "        if p_sum not in d:\n",
    "            d[p_sum] = i\n",
    "        if p_sum in d:\n",
    "            res = max(res, i-d[p_sum])\n",
    "    print(res)\n",
    "\n",
    "arr = [1,0,1,1,1,0,0]\n",
    "arr = [-1 if arr[i] == 0 else 1 for i in range(len(arr))]\n",
    "maxSum(arr)"
   ]
  },
  {
   "cell_type": "code",
   "execution_count": null,
   "id": "5ba11654-9a16-4189-ab30-b824330a38fa",
   "metadata": {},
   "outputs": [],
   "source": [
    "# count distinct elements in every window\n",
    "arr = [10,20,20,10,30,40,10]\n",
    "k = 4"
   ]
  }
 ],
 "metadata": {
  "kernelspec": {
   "display_name": "Python 3 (ipykernel)",
   "language": "python",
   "name": "python3"
  },
  "language_info": {
   "codemirror_mode": {
    "name": "ipython",
    "version": 3
   },
   "file_extension": ".py",
   "mimetype": "text/x-python",
   "name": "python",
   "nbconvert_exporter": "python",
   "pygments_lexer": "ipython3",
   "version": "3.12.3"
  }
 },
 "nbformat": 4,
 "nbformat_minor": 5
}
