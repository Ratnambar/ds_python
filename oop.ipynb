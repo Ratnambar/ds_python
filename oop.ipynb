{
 "cells": [
  {
   "cell_type": "code",
   "execution_count": 2,
   "id": "b92b030d-c299-4a80-87b2-35648f095a46",
   "metadata": {},
   "outputs": [
    {
     "name": "stdout",
     "output_type": "stream",
     "text": [
      "Buddy 3 Canis familiaris\n",
      "Millo 2 Canis familiaris\n",
      "max\n"
     ]
    }
   ],
   "source": [
    "class Dog:\n",
    "    species = 'Canis familiaris'\n",
    "\n",
    "    def __init__(self, name, age):\n",
    "        self.name = name\n",
    "        self.age = age\n",
    "\n",
    "d1 = Dog(\"Buddy\", 3)\n",
    "d2 = Dog(\"Millo\", 2)\n",
    "print(d1.name,d1.age,d1.species)\n",
    "print(d2.name,d2.age,d2.species)\n",
    "d1.name = \"max\"\n",
    "print(d1.name)"
   ]
  },
  {
   "cell_type": "code",
   "execution_count": 13,
   "id": "e4a076fa-4a73-455f-8a31-bdd40180f84b",
   "metadata": {},
   "outputs": [
    {
     "name": "stdout",
     "output_type": "stream",
     "text": [
      "Meow\n",
      "(<class '__main__.Hybrid'>, <class '__main__.Cat'>, <class '__main__.Dog'>, <class '__main__.Animal'>, <class 'object'>)\n"
     ]
    }
   ],
   "source": [
    "class Animal:\n",
    "    def speak(self):\n",
    "        return \"Animal speak\"\n",
    "class Dog(Animal):\n",
    "    def speak(self):\n",
    "        return \"Dog Bark\"\n",
    "class Cat(Animal):\n",
    "    def speak(self):\n",
    "        return \"Meow\"\n",
    "class Hybrid(Cat, Dog):\n",
    "    def speaksss(self):\n",
    "        return \"check\"\n",
    "h = Hybrid()\n",
    "print(h.speak())\n",
    "print(Hybrid.__mro__)"
   ]
  },
  {
   "cell_type": "code",
   "execution_count": 22,
   "id": "5b6a85f2-d3db-462c-81eb-d3f3e269b56b",
   "metadata": {},
   "outputs": [
    {
     "ename": "TypeError",
     "evalue": "Dog.__init__() missing 1 required positional argument: 'breed'",
     "output_type": "error",
     "traceback": [
      "\u001b[0;31m---------------------------------------------------------------------------\u001b[0m",
      "\u001b[0;31mTypeError\u001b[0m                                 Traceback (most recent call last)",
      "Cell \u001b[0;32mIn[22], line 12\u001b[0m\n\u001b[1;32m     10\u001b[0m     \u001b[38;5;28;01mdef\u001b[39;00m \u001b[38;5;21mspeak\u001b[39m(\u001b[38;5;28mself\u001b[39m):\n\u001b[1;32m     11\u001b[0m         \u001b[38;5;28;01mreturn\u001b[39;00m \u001b[38;5;124mf\u001b[39m\u001b[38;5;124m\"\u001b[39m\u001b[38;5;132;01m{\u001b[39;00m\u001b[38;5;28mself\u001b[39m\u001b[38;5;241m.\u001b[39mname\u001b[38;5;132;01m}\u001b[39;00m\u001b[38;5;124m is Barking.\u001b[39m\u001b[38;5;124m\"\u001b[39m\n\u001b[0;32m---> 12\u001b[0m d \u001b[38;5;241m=\u001b[39m \u001b[43mDog\u001b[49m\u001b[43m(\u001b[49m\u001b[43m \u001b[49m\u001b[38;5;124;43m\"\u001b[39;49m\u001b[38;5;124;43mGolden Retriever\u001b[39;49m\u001b[38;5;124;43m\"\u001b[39;49m\u001b[43m)\u001b[49m\n\u001b[1;32m     13\u001b[0m \u001b[38;5;28mprint\u001b[39m(d\u001b[38;5;241m.\u001b[39mspeak())\n\u001b[1;32m     14\u001b[0m \u001b[38;5;28mprint\u001b[39m(Animal(\u001b[38;5;124m\"\u001b[39m\u001b[38;5;124mBuddy\u001b[39m\u001b[38;5;124m\"\u001b[39m)\u001b[38;5;241m.\u001b[39mspeak())\n",
      "\u001b[0;31mTypeError\u001b[0m: Dog.__init__() missing 1 required positional argument: 'breed'"
     ]
    }
   ],
   "source": [
    "class Animal:\n",
    "    def __init__(self, name):\n",
    "        self.name = name\n",
    "    def speak(self):\n",
    "        return f\"{self.name} speak\"\n",
    "class Dog(Animal):\n",
    "    def __init__(self, name, breed):\n",
    "        super().__init__(name)\n",
    "        self.breed = breed\n",
    "    def speak(self):\n",
    "        return f\"{self.name} is Barking.\"\n",
    "d = Dog(\"Buddy\", \"Golden Retriever\")\n",
    "print(d.speak())\n",
    "print(Animal(\"Buddy\").speak())"
   ]
  },
  {
   "cell_type": "code",
   "execution_count": 25,
   "id": "904d6a44-36d2-4992-b205-78a56fd156f5",
   "metadata": {},
   "outputs": [
    {
     "name": "stdout",
     "output_type": "stream",
     "text": [
      "1\n",
      "2\n"
     ]
    },
    {
     "ename": "NameError",
     "evalue": "name 'class_var' is not defined",
     "output_type": "error",
     "traceback": [
      "\u001b[0;31m---------------------------------------------------------------------------\u001b[0m",
      "\u001b[0;31mNameError\u001b[0m                                 Traceback (most recent call last)",
      "Cell \u001b[0;32mIn[25], line 20\u001b[0m\n\u001b[1;32m     18\u001b[0m \u001b[38;5;28mprint\u001b[39m(MyClass\u001b[38;5;241m.\u001b[39mclass_method())  \u001b[38;5;66;03m# Output: 1\u001b[39;00m\n\u001b[1;32m     19\u001b[0m \u001b[38;5;28mprint\u001b[39m(MyClass\u001b[38;5;241m.\u001b[39mclass_method())  \u001b[38;5;66;03m# Output: 2\u001b[39;00m\n\u001b[0;32m---> 20\u001b[0m \u001b[38;5;28mprint\u001b[39m(\u001b[43mMyClass\u001b[49m\u001b[38;5;241;43m.\u001b[39;49m\u001b[43mstatic_method\u001b[49m\u001b[43m(\u001b[49m\u001b[43m)\u001b[49m)  \u001b[38;5;66;03m# Output: This is a static method\u001b[39;00m\n",
      "Cell \u001b[0;32mIn[25], line 14\u001b[0m, in \u001b[0;36mMyClass.static_method\u001b[0;34m()\u001b[0m\n\u001b[1;32m     12\u001b[0m \u001b[38;5;129m@staticmethod\u001b[39m\n\u001b[1;32m     13\u001b[0m \u001b[38;5;28;01mdef\u001b[39;00m \u001b[38;5;21mstatic_method\u001b[39m():\n\u001b[0;32m---> 14\u001b[0m     \u001b[38;5;28mprint\u001b[39m(\u001b[43mclass_var\u001b[49m)\n\u001b[1;32m     15\u001b[0m     \u001b[38;5;28;01mreturn\u001b[39;00m \u001b[38;5;124m\"\u001b[39m\u001b[38;5;124mThis is a static method\u001b[39m\u001b[38;5;124m\"\u001b[39m\n",
      "\u001b[0;31mNameError\u001b[0m: name 'class_var' is not defined"
     ]
    }
   ],
   "source": [
    "class MyClass:\n",
    "    class_var = 0\n",
    "\n",
    "    def __init__(self, instance_var):\n",
    "        self.instance_var = instance_var\n",
    "\n",
    "    @classmethod\n",
    "    def class_method(cls):\n",
    "        cls.class_var += 1\n",
    "        return cls.class_var\n",
    "\n",
    "    @staticmethod\n",
    "    def static_method():\n",
    "        return \"This is a static method\"\n",
    "\n",
    "obj = MyClass(1)\n",
    "print(MyClass.class_method())  # Output: 1\n",
    "print(MyClass.class_method())  # Output: 2\n",
    "print(MyClass.static_method())  # Output: This is a static method\n"
   ]
  },
  {
   "cell_type": "code",
   "execution_count": 29,
   "id": "c268229e-5609-4c35-85e6-6a4fef78311c",
   "metadata": {},
   "outputs": [
    {
     "name": "stdout",
     "output_type": "stream",
     "text": [
      "('x3', 7)\n"
     ]
    }
   ],
   "source": [
    "class Point:\n",
    "    def __init__(self, x, y):\n",
    "        self.x = x\n",
    "        self.y = y\n",
    "    def __add__(self, other):\n",
    "        X = self.x+other.x\n",
    "        Y = self.y+other.y\n",
    "        return (X,Y)\n",
    "p1 = Point('x',3)\n",
    "p2 = Point('3',4)\n",
    "print(p1+p2)"
   ]
  },
  {
   "cell_type": "code",
   "execution_count": 2,
   "id": "6edeed4b-ee5e-4f1f-bcbc-3378f98aab10",
   "metadata": {},
   "outputs": [
    {
     "name": "stdout",
     "output_type": "stream",
     "text": [
      "dog class\n",
      "animal class\n"
     ]
    }
   ],
   "source": [
    "class Animal:\n",
    "    def speak(self):\n",
    "        print(\"animal class\")\n",
    "class Dog(Animal):\n",
    "    def speak(self):\n",
    "        print(\"dog class\")\n",
    "        super().speak()\n",
    "d = Dog()\n",
    "d.speak()"
   ]
  },
  {
   "cell_type": "code",
   "execution_count": 3,
   "id": "10a36088-4578-4ab9-bc0e-e90de5722f69",
   "metadata": {},
   "outputs": [
    {
     "name": "stdout",
     "output_type": "stream",
     "text": [
      "A init\n",
      "C init\n",
      "B init\n",
      "D init\n"
     ]
    }
   ],
   "source": [
    "class A:\n",
    "    def __init__(self):\n",
    "        print(\"A init\")\n",
    "\n",
    "class B(A):\n",
    "    def __init__(self):\n",
    "        super().__init__()\n",
    "        print(\"B init\")\n",
    "\n",
    "class C(A):\n",
    "    def __init__(self):\n",
    "        super().__init__()\n",
    "        print(\"C init\")\n",
    "\n",
    "class D(B, C):\n",
    "    def __init__(self):\n",
    "        super().__init__()\n",
    "        print(\"D init\")\n",
    "\n",
    "d = D()\n",
    "# Output:\n",
    "# A init\n",
    "# C init\n",
    "# B init\n",
    "# D init\n"
   ]
  },
  {
   "cell_type": "code",
   "execution_count": 6,
   "id": "0e5c9b12-b1b9-4ac2-b4b2-adccf82fa46e",
   "metadata": {},
   "outputs": [
    {
     "name": "stdout",
     "output_type": "stream",
     "text": [
      "Animal\n",
      "Cat\n"
     ]
    }
   ],
   "source": [
    "class Animal:\n",
    "    species = \"Animal\"\n",
    "class Dog(Animal):\n",
    "    pass\n",
    "d = Dog()\n",
    "print(d.species)\n",
    "Dog.species = \"Cat\"\n",
    "print(d.species)"
   ]
  },
  {
   "cell_type": "code",
   "execution_count": 11,
   "id": "52effe47-0008-4736-b96e-459be67844aa",
   "metadata": {},
   "outputs": [
    {
     "name": "stdout",
     "output_type": "stream",
     "text": [
      "Check\n"
     ]
    }
   ],
   "source": [
    "class Animal:\n",
    "    def __init__(self, name):\n",
    "        self.name = name\n",
    "        print(self.name)\n",
    "class Dog(Animal):\n",
    "    def __init__(self,name):\n",
    "        super().__init__(name)\n",
    "        \n",
    "d = Dog(\"Check\")\n"
   ]
  },
  {
   "cell_type": "code",
   "execution_count": 14,
   "id": "9ead9e2e-00a1-4c57-baa5-e26b2cac6c15",
   "metadata": {},
   "outputs": [
    {
     "name": "stdout",
     "output_type": "stream",
     "text": [
      "25\n",
      "314.1592653589793\n"
     ]
    }
   ],
   "source": [
    "import math\n",
    "class Shape:\n",
    "    def area(self):\n",
    "        pass\n",
    "class Circle(Shape):\n",
    "    def __init__(self, radius):\n",
    "        self.radius = radius\n",
    "    def area(self):\n",
    "        return math.pi*self.radius**2\n",
    "class Square(Circle):\n",
    "    def __init__(self, side):\n",
    "        self.side = side\n",
    "    def area(self):\n",
    "        return self.side**2\n",
    "shapes = [Square(5), Circle(10)]\n",
    "for shape in shapes:\n",
    "    print(shape.area())"
   ]
  },
  {
   "cell_type": "code",
   "execution_count": 15,
   "id": "1a41b552-afbb-4641-ab13-958dc8004978",
   "metadata": {},
   "outputs": [
    {
     "name": "stdout",
     "output_type": "stream",
     "text": [
      "this is car\n"
     ]
    }
   ],
   "source": [
    "from abc import ABC, abstractmethod\n",
    "\n",
    "class Vehicle:\n",
    "    @abstractmethod\n",
    "    def start_engine(self):\n",
    "        pass\n",
    "class Car(Vehicle):\n",
    "    def start_engine(self):\n",
    "        print(\"this is car\")\n",
    "c = Car()\n",
    "c.start_engine()"
   ]
  },
  {
   "cell_type": "code",
   "execution_count": 21,
   "id": "90e60a1a-6df8-4d5d-aee6-933c86e14c0b",
   "metadata": {},
   "outputs": [
    {
     "name": "stdout",
     "output_type": "stream",
     "text": [
      "Toyota\n",
      "150\n"
     ]
    }
   ],
   "source": [
    "class Engine:\n",
    "    def __init__(self, power):\n",
    "        self.power = power\n",
    "\n",
    "class Car:\n",
    "    def __init__(self, model, engine):\n",
    "        self.model = model\n",
    "        self.engine = engine\n",
    "\n",
    "eng = Engine(150)\n",
    "car = Car(\"Toyota\", eng)\n",
    "print(car.model)  # Output: Toyota\n",
    "print(car.engine.power)  # Output: 150\n"
   ]
  },
  {
   "cell_type": "code",
   "execution_count": null,
   "id": "a1348ccd-7baf-438f-90a3-0f76d4105bb3",
   "metadata": {},
   "outputs": [],
   "source": []
  }
 ],
 "metadata": {
  "kernelspec": {
   "display_name": "Python 3 (ipykernel)",
   "language": "python",
   "name": "python3"
  },
  "language_info": {
   "codemirror_mode": {
    "name": "ipython",
    "version": 3
   },
   "file_extension": ".py",
   "mimetype": "text/x-python",
   "name": "python",
   "nbconvert_exporter": "python",
   "pygments_lexer": "ipython3",
   "version": "3.12.3"
  }
 },
 "nbformat": 4,
 "nbformat_minor": 5
}
