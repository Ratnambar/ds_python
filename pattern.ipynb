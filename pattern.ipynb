{
 "cells": [
  {
   "cell_type": "code",
   "execution_count": 73,
   "id": "c39cd039-f7c2-4111-9612-43d07c806f71",
   "metadata": {},
   "outputs": [
    {
     "name": "stdout",
     "output_type": "stream",
     "text": [
      "        *           \n",
      "      * * *         \n",
      "    * * * * *       \n",
      "  * * * * * * *     \n",
      "* * * * * * * * *   \n"
     ]
    }
   ],
   "source": [
    "row = 5\n",
    "col = 5\n",
    "for i in range(1,row+1):\n",
    "    for j in range(1,2*row+1):\n",
    "        if(j > row-i and j < row+i):\n",
    "            print(\"*\",end=\" \")\n",
    "        else:\n",
    "            print(\" \",end=\" \")\n",
    "    print(end=\"\\n\")"
   ]
  },
  {
   "cell_type": "code",
   "execution_count": 79,
   "id": "665edbf2-6e0e-4267-aed8-de7f9388b7c7",
   "metadata": {},
   "outputs": [
    {
     "name": "stdout",
     "output_type": "stream",
     "text": [
      "1         \n",
      "2 3       \n",
      "4 5 6     \n",
      "7 8 9 10   \n",
      "11 12 13 14 15 \n"
     ]
    }
   ],
   "source": [
    "row = 5\n",
    "n = 1\n",
    "for i in range(1,row+1):\n",
    "    for j in range(1,row+1):\n",
    "        if j<=i:\n",
    "            print(n,end=\" \")\n",
    "            n+=1\n",
    "        else:\n",
    "            print(\" \",end=\" \")\n",
    "    print(end=\"\\n\")"
   ]
  },
  {
   "cell_type": "code",
   "execution_count": 80,
   "id": "61a3aebf-d1cb-40e1-b397-a9c74d14c6ba",
   "metadata": {},
   "outputs": [
    {
     "name": "stdout",
     "output_type": "stream",
     "text": [
      "1         \n",
      "1 2       \n",
      "1 2 3     \n",
      "1 2 3 4   \n",
      "1 2 3 4 5 \n"
     ]
    }
   ],
   "source": [
    "row = 5\n",
    "n = 1\n",
    "for i in range(1,row+1):\n",
    "    for j in range(1,row+1):\n",
    "        if j<=i:\n",
    "            print(j,end=\" \")\n",
    "        else:\n",
    "            print(\" \",end=\" \")\n",
    "    print(end=\"\\n\")"
   ]
  },
  {
   "cell_type": "code",
   "execution_count": 81,
   "id": "a516409b-73a5-4920-b834-529803374660",
   "metadata": {},
   "outputs": [
    {
     "name": "stdout",
     "output_type": "stream",
     "text": [
      "* * * * * \n",
      "* * * * \n",
      "* * * \n",
      "* * \n",
      "* \n"
     ]
    }
   ],
   "source": [
    "n = 5\n",
    "for i in range(1, n+1):\n",
    "    for j in range(1, n+1):\n",
    "        if j <= n+1-i:\n",
    "            print(\"*\",end=\" \")\n",
    "        else:\n",
    "            print(\"\",end=\"\")\n",
    "    print(end=\"\\n\")"
   ]
  },
  {
   "cell_type": "code",
   "execution_count": 88,
   "id": "eaff44f3-cfe3-4d7c-bf4e-7901d121bca3",
   "metadata": {},
   "outputs": [
    {
     "name": "stdout",
     "output_type": "stream",
     "text": [
      "********* \n",
      " *******  \n",
      "  *****   \n",
      "   ***    \n",
      "    *     \n"
     ]
    }
   ],
   "source": [
    "n = 5\n",
    "for i in range(1,n+1):\n",
    "    for j in range(1,2*n+1):\n",
    "        if(j > i-1 and j <= 2*n-i):\n",
    "            print(\"*\",end=\"\")\n",
    "        else:\n",
    "            print(\" \",end=\"\")\n",
    "    print(end=\"\\n\")"
   ]
  },
  {
   "cell_type": "code",
   "execution_count": 106,
   "id": "20a476e9-fa5f-4de1-be44-b3c3b026923e",
   "metadata": {},
   "outputs": [
    {
     "name": "stdout",
     "output_type": "stream",
     "text": [
      "      *      \n",
      "     ***     \n",
      "    *****    \n",
      "   *******   \n",
      "  *********  \n",
      " *********** \n",
      "************* \n",
      " ***********  \n",
      "  *********   \n",
      "   *******    \n",
      "    *****     \n",
      "     ***      \n",
      "      *       \n"
     ]
    }
   ],
   "source": [
    "n = 7\n",
    "for i in range(1,n):\n",
    "    for j in range(1,2*n):\n",
    "        if(j > n-i and j < n+i):\n",
    "            print(\"*\",end=\"\")\n",
    "        else:\n",
    "            print(\" \",end=\"\")\n",
    "    print(end=\"\\n\")\n",
    "for i in range(1,n+1):\n",
    "    for j in range(1,2*n+1):\n",
    "        if(j > i-1 and j <= 2*n-i):\n",
    "            print(\"*\",end=\"\")\n",
    "        else:\n",
    "            print(\" \",end=\"\")\n",
    "    print(end=\"\\n\")"
   ]
  },
  {
   "cell_type": "code",
   "execution_count": 118,
   "id": "9f443a3b-47a5-4350-acee-5e5599e30853",
   "metadata": {},
   "outputs": [
    {
     "name": "stdout",
     "output_type": "stream",
     "text": [
      "    *     \n",
      "   ***    \n",
      "  *****   \n",
      " *******  \n",
      "********* \n",
      " *******  \n",
      "  *****   \n",
      "   ***    \n",
      "    *     \n"
     ]
    }
   ],
   "source": [
    "n = 5\n",
    "for i in range(1,n):\n",
    "    for j in range(1, 2*n+1):\n",
    "        if(j > n-i and j < n+i):\n",
    "            print(\"*\",end=\"\")\n",
    "        else:\n",
    "            print(end=\" \")\n",
    "    print(end=\"\\n\")\n",
    "for i in range(1,n+1):\n",
    "    for j in range(1,2*n+1):\n",
    "        if(j > i-1 and j <= 2*n-i):\n",
    "            print(\"*\",end=\"\")\n",
    "        else:\n",
    "            print(end=\" \")\n",
    "    print(end=\"\\n\")"
   ]
  },
  {
   "cell_type": "code",
   "execution_count": 124,
   "id": "862dac08-4d01-49f3-9495-1b273b1e1b26",
   "metadata": {},
   "outputs": [
    {
     "name": "stdout",
     "output_type": "stream",
     "text": [
      "1 2 3 4 5 \n",
      "1 2 3 4 \n",
      "1 2 3 \n",
      "1 2 \n",
      "1 \n",
      "\n",
      "\n"
     ]
    }
   ],
   "source": [
    "\n",
    "row = 5\n",
    "for i in range(row+1,-1,-1):\n",
    "    n = 1\n",
    "    for j in range(1,i):\n",
    "        print(n,end=\" \")\n",
    "        n+=1\n",
    "    print(end=\"\\n\")"
   ]
  },
  {
   "cell_type": "code",
   "execution_count": 1,
   "id": "9ac26691-24bd-4ad3-b58d-34f2a547eb26",
   "metadata": {},
   "outputs": [
    {
     "name": "stdout",
     "output_type": "stream",
     "text": [
      "      1 \n",
      "     1 1 \n",
      "    1 2 1 \n",
      "   1 3 3 1 \n",
      "  1 4 6 4 1 \n"
     ]
    }
   ],
   "source": [
    "from math import factorial\n",
    "\n",
    "# input n\n",
    "n = 5\n",
    "for i in range(n):\n",
    "    for j in range(n-i+1):\n",
    "\n",
    "        # for left spacing\n",
    "        print(end=\" \")\n",
    "\n",
    "    for j in range(i+1):\n",
    "\n",
    "        # nCr = n!/((n-r)!*r!)\n",
    "        print(factorial(i)//(factorial(j)*factorial(i-j)), end=\" \")\n",
    "\n",
    "    # for new line\n",
    "    print()"
   ]
  },
  {
   "cell_type": "code",
   "execution_count": null,
   "id": "efceae23-caec-468c-a5fb-073bdfa9aaed",
   "metadata": {},
   "outputs": [],
   "source": []
  }
 ],
 "metadata": {
  "kernelspec": {
   "display_name": "Python 3 (ipykernel)",
   "language": "python",
   "name": "python3"
  },
  "language_info": {
   "codemirror_mode": {
    "name": "ipython",
    "version": 3
   },
   "file_extension": ".py",
   "mimetype": "text/x-python",
   "name": "python",
   "nbconvert_exporter": "python",
   "pygments_lexer": "ipython3",
   "version": "3.12.3"
  }
 },
 "nbformat": 4,
 "nbformat_minor": 5
}
