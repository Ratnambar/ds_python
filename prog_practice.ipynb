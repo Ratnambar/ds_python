{
 "cells": [
  {
   "cell_type": "code",
   "execution_count": 1,
   "id": "aae98a54-0caf-4d3d-a7ad-e5b291f1578f",
   "metadata": {},
   "outputs": [
    {
     "name": "stdout",
     "output_type": "stream",
     "text": [
      "[0, 0, 0, 1, 1, 1, 2, 2, 2]\n"
     ]
    }
   ],
   "source": [
    "# dutch national flag algo\n",
    "def dutch_national(arr):\n",
    "    left = 0\n",
    "    right = len(arr)-1\n",
    "    mid = 0\n",
    "    while mid <= right:\n",
    "        if arr[mid] == 0:\n",
    "            arr[left],arr[mid] = arr[mid],arr[left]\n",
    "            left+=1\n",
    "            mid+=1\n",
    "        elif arr[mid] == 1:\n",
    "            mid+=1\n",
    "        else:\n",
    "            arr[mid],arr[right] = arr[right],arr[mid]\n",
    "            right-=1\n",
    "    return arr\n",
    "\n",
    "arr = [0,1,2,0,0,2,2,1,1]\n",
    "print(dutch_national(arr))"
   ]
  },
  {
   "cell_type": "code",
   "execution_count": 4,
   "id": "f4307ee8-6958-4ee9-9c1d-1dee6709882f",
   "metadata": {},
   "outputs": [
    {
     "name": "stdout",
     "output_type": "stream",
     "text": [
      "3\n"
     ]
    }
   ],
   "source": [
    "# minimum difference in an array\n",
    "def min_diff(arr):\n",
    "    arr.sort()\n",
    "    min_dif = 100000\n",
    "    for i in range(1,len(arr)):\n",
    "        min_dif = min(min_dif,arr[i]-arr[i-1])\n",
    "    print(min_dif)\n",
    "\n",
    "arr = [1,8,12,5,18]\n",
    "min_diff(arr)"
   ]
  },
  {
   "cell_type": "code",
   "execution_count": 10,
   "id": "b274d1e3-b1df-46ad-935a-0fe3a1486ac1",
   "metadata": {},
   "outputs": [
    {
     "name": "stdout",
     "output_type": "stream",
     "text": [
      "[5, 6, 7, 11, 12, 13]\n"
     ]
    }
   ],
   "source": [
    "# heap sort\n",
    "def heapify(arr,n,i):\n",
    "    largest = i\n",
    "    left = 2*i+1\n",
    "    right = 2*i+2\n",
    "    if left < n and arr[largest] < arr[left]:\n",
    "        largest = left\n",
    "    if right < n and arr[largest] < arr[right]:\n",
    "        largest = right\n",
    "    if largest != i:\n",
    "        arr[largest],arr[i] = arr[i],arr[largest]\n",
    "        heapify(arr, n, largest)\n",
    "\n",
    "def heapSort(arr):\n",
    "    n = len(arr)-1\n",
    "    for i in range(n//2,-1,-1):\n",
    "        heapify(arr,n,i)\n",
    "    for i in range(n,0,-1):\n",
    "        arr[0],arr[i] = arr[i],arr[0]\n",
    "        heapify(arr, i, 0)\n",
    "    \n",
    "\n",
    "arr = [12, 11, 13, 5, 6, 7]\n",
    "heapSort(arr)\n",
    "print(arr)"
   ]
  },
  {
   "cell_type": "code",
   "execution_count": 16,
   "id": "2a888540-05f4-4739-acc2-ead3ec8fdaed",
   "metadata": {},
   "outputs": [
    {
     "name": "stdout",
     "output_type": "stream",
     "text": [
      "[13, 12, 11, 7, 6, 5]\n"
     ]
    }
   ],
   "source": [
    "# min heapify\n",
    "def heapify(arr,n,i):\n",
    "    smallest = i\n",
    "    left = 2*i+1\n",
    "    right = 2*i+2\n",
    "    if left < n and arr[smallest] > arr[left]:\n",
    "        smallest = left\n",
    "    if right < n and arr[smallest] > arr[right]:\n",
    "        smallest = right\n",
    "    if smallest != i:\n",
    "        arr[smallest],arr[i] = arr[i],arr[smallest]\n",
    "        heapify(arr, n, smallest)\n",
    "\n",
    "def heapSort(arr):\n",
    "    n = len(arr)-1\n",
    "    for i in range(n//2,-1,-1):\n",
    "        heapify(arr,n,i)\n",
    "    for i in range(n,0,-1):\n",
    "        arr[0],arr[i] = arr[i],arr[0]\n",
    "        heapify(arr, i, 0)\n",
    "    \n",
    "\n",
    "arr = [12, 11, 13, 5, 6, 7]\n",
    "heapSort(arr)\n",
    "print(arr)"
   ]
  },
  {
   "cell_type": "code",
   "execution_count": null,
   "id": "aa9f6b28-0cf2-4788-8d5e-47a10e6b19d6",
   "metadata": {},
   "outputs": [],
   "source": []
  },
  {
   "cell_type": "code",
   "execution_count": null,
   "id": "b7218f69-b335-46d9-8228-1286f9d5de1a",
   "metadata": {},
   "outputs": [],
   "source": []
  },
  {
   "cell_type": "code",
   "execution_count": null,
   "id": "98df406e-d3b1-4524-8c32-e3db59e8795f",
   "metadata": {},
   "outputs": [],
   "source": []
  },
  {
   "cell_type": "code",
   "execution_count": null,
   "id": "62cbb493-588b-4c57-ae55-f9b0a0015932",
   "metadata": {},
   "outputs": [],
   "source": []
  },
  {
   "cell_type": "code",
   "execution_count": null,
   "id": "00a99c47-34b7-43d7-b5a6-2ec2eeba8aa3",
   "metadata": {},
   "outputs": [],
   "source": []
  },
  {
   "cell_type": "code",
   "execution_count": null,
   "id": "1648ce20-0615-4b91-8564-126b15e17756",
   "metadata": {},
   "outputs": [],
   "source": []
  },
  {
   "cell_type": "code",
   "execution_count": null,
   "id": "4fd5e50b-e02e-43b0-a7c2-96f89aa6fe3f",
   "metadata": {},
   "outputs": [],
   "source": []
  },
  {
   "cell_type": "code",
   "execution_count": null,
   "id": "6eeb1c00-a01d-4a59-8fe8-f049949e27c9",
   "metadata": {},
   "outputs": [],
   "source": []
  },
  {
   "cell_type": "code",
   "execution_count": null,
   "id": "4bf5a563-548e-45e0-ae38-80cb6758651b",
   "metadata": {},
   "outputs": [],
   "source": []
  },
  {
   "cell_type": "code",
   "execution_count": null,
   "id": "8365b094-78d3-4adb-aab8-c6276672ea88",
   "metadata": {},
   "outputs": [],
   "source": []
  }
 ],
 "metadata": {
  "kernelspec": {
   "display_name": "Python 3 (ipykernel)",
   "language": "python",
   "name": "python3"
  },
  "language_info": {
   "codemirror_mode": {
    "name": "ipython",
    "version": 3
   },
   "file_extension": ".py",
   "mimetype": "text/x-python",
   "name": "python",
   "nbconvert_exporter": "python",
   "pygments_lexer": "ipython3",
   "version": "3.12.3"
  }
 },
 "nbformat": 4,
 "nbformat_minor": 5
}
