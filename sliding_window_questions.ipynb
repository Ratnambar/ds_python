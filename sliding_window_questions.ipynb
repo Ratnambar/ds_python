{
 "cells": [
  {
   "cell_type": "code",
   "execution_count": 12,
   "id": "16708e2e-ffce-4a14-8d36-fb2d4a441db3",
   "metadata": {},
   "outputs": [
    {
     "name": "stdout",
     "output_type": "stream",
     "text": [
      "9\n"
     ]
    }
   ],
   "source": [
    "#Find the maximum sum of a subarray of size k:\n",
    "def subarray(arr, k):\n",
    "    p_sum = 0\n",
    "    for i in range(k):\n",
    "        p_sum+=arr[i]\n",
    "    res = p_sum\n",
    "    n = len(arr)\n",
    "    for i in range(k, n):\n",
    "        p_sum+=(arr[i]-arr[i-k])\n",
    "        res = max(res, p_sum)\n",
    "    return res\n",
    "        \n",
    "\n",
    "arr = [2, 1, 5, 1, 3, 2]\n",
    "k = 3\n",
    "print(subarray(arr, k))"
   ]
  },
  {
   "cell_type": "code",
   "execution_count": 16,
   "id": "a13321f0-5dd6-4855-84f5-53d8036c6d44",
   "metadata": {},
   "outputs": [
    {
     "name": "stdout",
     "output_type": "stream",
     "text": [
      "(6, [3, 5])\n"
     ]
    }
   ],
   "source": [
    "# Find the minimum sum of a subarray of size k:\n",
    "def subarray(arr, k):\n",
    "    p_sum = 0\n",
    "    for i in range(k):\n",
    "        p_sum+=arr[i]\n",
    "    res = p_sum\n",
    "    index = [0,i]\n",
    "    for i in range(k, len(arr)):\n",
    "        p_sum+=(arr[i]-arr[i-k])\n",
    "        res = min(res, p_sum)\n",
    "        index = [i-k+1, i]\n",
    "    return res,index\n",
    "\n",
    "arr = [2, 1, 5, 1, 3, 2]\n",
    "k = 3\n",
    "print(subarray(arr, k))"
   ]
  },
  {
   "cell_type": "code",
   "execution_count": 22,
   "id": "05b40da7-ea50-4acc-8368-5aa2e0a16d0b",
   "metadata": {},
   "outputs": [
    {
     "name": "stdout",
     "output_type": "stream",
     "text": [
      "2\n"
     ]
    }
   ],
   "source": [
    "# Count the number of subarrays of size k with average greater than or equal to x:\n",
    " \n",
    "def subarray(arr ,k , x):\n",
    "    p_sum = 0\n",
    "    for i in range(k):\n",
    "        p_sum+=arr[i]\n",
    "    count = 0\n",
    "    if p_sum//k >= x:\n",
    "        count = 1\n",
    "    for i in range(k, len(arr)):\n",
    "        p_sum+=(arr[i]-arr[i-k])\n",
    "        if p_sum//k >= x:\n",
    "            count+=1\n",
    "    print(count)\n",
    "arr = [2, 1, 5, 1, 3, 2]\n",
    "k = 2\n",
    "x = 3\n",
    "subarray(arr, k, x)"
   ]
  },
  {
   "cell_type": "code",
   "execution_count": 34,
   "id": "db55a197-e079-44ba-bfd5-a4f2066cc15f",
   "metadata": {},
   "outputs": [
    {
     "name": "stdout",
     "output_type": "stream",
     "text": [
      "4\n"
     ]
    }
   ],
   "source": [
    "# Find the longest subarray with all distinct elements:\n",
    "def subarray_distinct(arr):\n",
    "    seen_ele = []\n",
    "    start = 0\n",
    "    max_len = 0\n",
    "    for i in range(len(arr)):\n",
    "        while arr[i] in seen_ele:\n",
    "            seen_ele.remove(arr[i])\n",
    "            start+=1\n",
    "        seen_ele.append(arr[i])\n",
    "        max_len = max(max_len, i-start+1)\n",
    "    print(max_len)\n",
    "\n",
    "arr = [4, 2, 1, 3, 2, 1, 4]\n",
    "# arr = [1, 2, 1, 3, 4, 2, 3]\n",
    "subarray_distinct(arr)"
   ]
  },
  {
   "cell_type": "code",
   "execution_count": 31,
   "id": "237bdaf6-b7c9-42ec-8d7c-5a84035e3c6d",
   "metadata": {},
   "outputs": [
    {
     "name": "stdout",
     "output_type": "stream",
     "text": [
      "Length of the longest subarray with all distinct elements: 4\n"
     ]
    }
   ],
   "source": [
    "def longest_subarray_with_distinct_elements(arr):\n",
    "    start = 0\n",
    "    max_length = 0\n",
    "    seen_elements = set()\n",
    "    \n",
    "    for end in range(len(arr)):\n",
    "        while arr[end] in seen_elements:\n",
    "            seen_elements.remove(arr[start])\n",
    "            start += 1\n",
    "        seen_elements.add(arr[end])\n",
    "        max_length = max(max_length, end - start + 1)\n",
    "    \n",
    "    return max_length\n",
    "\n",
    "# Example usage:\n",
    "arr = [1, 2, 1, 3, 4, 2, 3]\n",
    "print(\"Length of the longest subarray with all distinct elements:\", longest_subarray_with_distinct_elements(arr))\n"
   ]
  },
  {
   "cell_type": "code",
   "execution_count": 40,
   "id": "78c9a3da-c200-4361-95c8-c6aebed1c156",
   "metadata": {},
   "outputs": [
    {
     "data": {
      "text/plain": [
       "(2, ['p', 'q'])"
      ]
     },
     "execution_count": 40,
     "metadata": {},
     "output_type": "execute_result"
    }
   ],
   "source": [
    "def num_substr(s, k):\n",
    "    count = 0\n",
    "    d = {}\n",
    "    key = []\n",
    "    for i in range(len(s)):\n",
    "        if s[i] not in d:\n",
    "            d[s[i]]=1\n",
    "        else:\n",
    "            d[s[i]]+=1\n",
    "    for x,y in d.items():\n",
    "        if y >=2 :\n",
    "            count+=y//2\n",
    "            key.append(x)\n",
    "    return count,key\n",
    "\n",
    "s = \"pqpqs\"\n",
    "k = 2\n",
    "x = 1\n",
    "num_substr(s, k)"
   ]
  },
  {
   "cell_type": "code",
   "execution_count": null,
   "id": "1bc35aa4-6ab1-443f-abd2-e83e7f99d133",
   "metadata": {},
   "outputs": [],
   "source": []
  }
 ],
 "metadata": {
  "kernelspec": {
   "display_name": "Python 3 (ipykernel)",
   "language": "python",
   "name": "python3"
  },
  "language_info": {
   "codemirror_mode": {
    "name": "ipython",
    "version": 3
   },
   "file_extension": ".py",
   "mimetype": "text/x-python",
   "name": "python",
   "nbconvert_exporter": "python",
   "pygments_lexer": "ipython3",
   "version": "3.12.3"
  }
 },
 "nbformat": 4,
 "nbformat_minor": 5
}
